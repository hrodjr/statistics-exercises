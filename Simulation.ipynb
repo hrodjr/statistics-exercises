{
 "cells": [
  {
   "cell_type": "code",
   "execution_count": 11,
   "id": "207b40a1",
   "metadata": {},
   "outputs": [],
   "source": [
    "import numpy as np\n",
    "import pandas as pd"
   ]
  },
  {
   "cell_type": "markdown",
   "id": "5fff38f7",
   "metadata": {},
   "source": [
    "# 1. How likely is it that you roll doubles when rolling two dice?"
   ]
  },
  {
   "cell_type": "code",
   "execution_count": 2,
   "id": "b47d152c",
   "metadata": {},
   "outputs": [
    {
     "data": {
      "text/plain": [
       "(array([5, 5, 4, 3, 6]), array([6, 2, 2, 6, 4]))"
      ]
     },
     "execution_count": 2,
     "metadata": {},
     "output_type": "execute_result"
    }
   ],
   "source": [
    "# How likely is it that you roll doubles when rolling two dice?\n",
    "outcomes = [1, 2, 3, 4, 5, 6]\n",
    "n_sims = 1_000_000\n",
    "\n",
    "die1 = np.random.choice(outcomes, size=n_sims)#setup to match vice sum.\n",
    "die2 = np.random.choice(outcomes, size=n_sims)\n",
    "\n",
    "die1[0:5], die2[0:5]"
   ]
  },
  {
   "cell_type": "code",
   "execution_count": 3,
   "id": "b70bb86f",
   "metadata": {},
   "outputs": [
    {
     "data": {
      "text/plain": [
       "0.166551"
      ]
     },
     "execution_count": 3,
     "metadata": {},
     "output_type": "execute_result"
    }
   ],
   "source": [
    "# probability of rolling doubles\n",
    "(die1==die2).mean()# 1 die equals the other."
   ]
  },
  {
   "cell_type": "markdown",
   "id": "ec8df1d3",
   "metadata": {},
   "source": [
    "# 2. If you flip 8 coins, what is the probability of getting exactly 3 heads? What is the probability of getting more than 3 heads?"
   ]
  },
  {
   "cell_type": "code",
   "execution_count": 14,
   "id": "fb3758db",
   "metadata": {},
   "outputs": [],
   "source": [
    "# If you flip 8 coins, what is the probability of getting exactly 3 heads? What is the probability of getting more than 3 heads?\n",
    "\n",
    "nrows = 100_000 #set \"nrows\" to number of simulations to run\n",
    "ncols = 8       #\"coin flips\" -- set \"ncols\" to number of random events in each simulation"
   ]
  },
  {
   "cell_type": "code",
   "execution_count": 16,
   "id": "901b1d5a",
   "metadata": {},
   "outputs": [
    {
     "data": {
      "text/plain": [
       "array([[ True, False,  True, ..., False,  True,  True],\n",
       "       [False, False,  True, ...,  True,  True, False],\n",
       "       [False,  True,  True, ..., False, False, False],\n",
       "       ...,\n",
       "       [ True, False, False, ..., False, False, False],\n",
       "       [ True, False, False, ..., False,  True,  True],\n",
       "       [False, False, False, ..., False,  True,  True]])"
      ]
     },
     "execution_count": 16,
     "metadata": {},
     "output_type": "execute_result"
    }
   ],
   "source": [
    "#creates array\n",
    "flips = np.random.choice([True, False], nrows * ncols).reshape(nrows, ncols)\n",
    "#(array of heads(\"True\") & tails(\"False\"), number of coin flips multiplied by the number of simulations to run)\n",
    "#.reshape puts the data into ows and columns like instead of in a row.\n",
    "flips #variable"
   ]
  },
  {
   "cell_type": "code",
   "execution_count": 17,
   "id": "844f21f6",
   "metadata": {},
   "outputs": [
    {
     "data": {
      "text/html": [
       "<div>\n",
       "<style scoped>\n",
       "    .dataframe tbody tr th:only-of-type {\n",
       "        vertical-align: middle;\n",
       "    }\n",
       "\n",
       "    .dataframe tbody tr th {\n",
       "        vertical-align: top;\n",
       "    }\n",
       "\n",
       "    .dataframe thead th {\n",
       "        text-align: right;\n",
       "    }\n",
       "</style>\n",
       "<table border=\"1\" class=\"dataframe\">\n",
       "  <thead>\n",
       "    <tr style=\"text-align: right;\">\n",
       "      <th></th>\n",
       "      <th>0</th>\n",
       "      <th>1</th>\n",
       "      <th>2</th>\n",
       "      <th>3</th>\n",
       "      <th>4</th>\n",
       "      <th>5</th>\n",
       "      <th>6</th>\n",
       "      <th>7</th>\n",
       "    </tr>\n",
       "  </thead>\n",
       "  <tbody>\n",
       "    <tr>\n",
       "      <th>0</th>\n",
       "      <td>True</td>\n",
       "      <td>False</td>\n",
       "      <td>True</td>\n",
       "      <td>True</td>\n",
       "      <td>False</td>\n",
       "      <td>False</td>\n",
       "      <td>True</td>\n",
       "      <td>True</td>\n",
       "    </tr>\n",
       "    <tr>\n",
       "      <th>1</th>\n",
       "      <td>False</td>\n",
       "      <td>False</td>\n",
       "      <td>True</td>\n",
       "      <td>True</td>\n",
       "      <td>False</td>\n",
       "      <td>True</td>\n",
       "      <td>True</td>\n",
       "      <td>False</td>\n",
       "    </tr>\n",
       "    <tr>\n",
       "      <th>2</th>\n",
       "      <td>False</td>\n",
       "      <td>True</td>\n",
       "      <td>True</td>\n",
       "      <td>False</td>\n",
       "      <td>False</td>\n",
       "      <td>False</td>\n",
       "      <td>False</td>\n",
       "      <td>False</td>\n",
       "    </tr>\n",
       "    <tr>\n",
       "      <th>3</th>\n",
       "      <td>True</td>\n",
       "      <td>True</td>\n",
       "      <td>False</td>\n",
       "      <td>False</td>\n",
       "      <td>True</td>\n",
       "      <td>False</td>\n",
       "      <td>True</td>\n",
       "      <td>False</td>\n",
       "    </tr>\n",
       "    <tr>\n",
       "      <th>4</th>\n",
       "      <td>True</td>\n",
       "      <td>True</td>\n",
       "      <td>True</td>\n",
       "      <td>False</td>\n",
       "      <td>True</td>\n",
       "      <td>False</td>\n",
       "      <td>True</td>\n",
       "      <td>True</td>\n",
       "    </tr>\n",
       "  </tbody>\n",
       "</table>\n",
       "</div>"
      ],
      "text/plain": [
       "       0      1      2      3      4      5      6      7\n",
       "0   True  False   True   True  False  False   True   True\n",
       "1  False  False   True   True  False   True   True  False\n",
       "2  False   True   True  False  False  False  False  False\n",
       "3   True   True  False  False   True  False   True  False\n",
       "4   True   True   True  False   True  False   True   True"
      ]
     },
     "execution_count": 17,
     "metadata": {},
     "output_type": "execute_result"
    }
   ],
   "source": [
    "#convert the above into a df\n",
    "df = pd.DataFrame(flips)\n",
    "df.head()"
   ]
  },
  {
   "cell_type": "code",
   "execution_count": 23,
   "id": "95b00cad",
   "metadata": {},
   "outputs": [
    {
     "data": {
      "text/html": [
       "<div>\n",
       "<style scoped>\n",
       "    .dataframe tbody tr th:only-of-type {\n",
       "        vertical-align: middle;\n",
       "    }\n",
       "\n",
       "    .dataframe tbody tr th {\n",
       "        vertical-align: top;\n",
       "    }\n",
       "\n",
       "    .dataframe thead th {\n",
       "        text-align: right;\n",
       "    }\n",
       "</style>\n",
       "<table border=\"1\" class=\"dataframe\">\n",
       "  <thead>\n",
       "    <tr style=\"text-align: right;\">\n",
       "      <th></th>\n",
       "      <th>0</th>\n",
       "      <th>1</th>\n",
       "      <th>2</th>\n",
       "      <th>3</th>\n",
       "      <th>4</th>\n",
       "      <th>5</th>\n",
       "      <th>6</th>\n",
       "      <th>7</th>\n",
       "      <th>heads</th>\n",
       "      <th>three_heads</th>\n",
       "      <th>greater_heads</th>\n",
       "    </tr>\n",
       "  </thead>\n",
       "  <tbody>\n",
       "    <tr>\n",
       "      <th>0</th>\n",
       "      <td>True</td>\n",
       "      <td>False</td>\n",
       "      <td>True</td>\n",
       "      <td>True</td>\n",
       "      <td>False</td>\n",
       "      <td>False</td>\n",
       "      <td>True</td>\n",
       "      <td>True</td>\n",
       "      <td>17.0</td>\n",
       "      <td>False</td>\n",
       "      <td>True</td>\n",
       "    </tr>\n",
       "    <tr>\n",
       "      <th>1</th>\n",
       "      <td>False</td>\n",
       "      <td>False</td>\n",
       "      <td>True</td>\n",
       "      <td>True</td>\n",
       "      <td>False</td>\n",
       "      <td>True</td>\n",
       "      <td>True</td>\n",
       "      <td>False</td>\n",
       "      <td>14.0</td>\n",
       "      <td>False</td>\n",
       "      <td>True</td>\n",
       "    </tr>\n",
       "    <tr>\n",
       "      <th>2</th>\n",
       "      <td>False</td>\n",
       "      <td>True</td>\n",
       "      <td>True</td>\n",
       "      <td>False</td>\n",
       "      <td>False</td>\n",
       "      <td>False</td>\n",
       "      <td>False</td>\n",
       "      <td>False</td>\n",
       "      <td>7.0</td>\n",
       "      <td>False</td>\n",
       "      <td>True</td>\n",
       "    </tr>\n",
       "    <tr>\n",
       "      <th>3</th>\n",
       "      <td>True</td>\n",
       "      <td>True</td>\n",
       "      <td>False</td>\n",
       "      <td>False</td>\n",
       "      <td>True</td>\n",
       "      <td>False</td>\n",
       "      <td>True</td>\n",
       "      <td>False</td>\n",
       "      <td>14.0</td>\n",
       "      <td>False</td>\n",
       "      <td>True</td>\n",
       "    </tr>\n",
       "    <tr>\n",
       "      <th>4</th>\n",
       "      <td>True</td>\n",
       "      <td>True</td>\n",
       "      <td>True</td>\n",
       "      <td>False</td>\n",
       "      <td>True</td>\n",
       "      <td>False</td>\n",
       "      <td>True</td>\n",
       "      <td>True</td>\n",
       "      <td>20.0</td>\n",
       "      <td>False</td>\n",
       "      <td>True</td>\n",
       "    </tr>\n",
       "  </tbody>\n",
       "</table>\n",
       "</div>"
      ],
      "text/plain": [
       "       0      1      2      3      4      5      6      7  heads  three_heads  \\\n",
       "0   True  False   True   True  False  False   True   True   17.0        False   \n",
       "1  False  False   True   True  False   True   True  False   14.0        False   \n",
       "2  False   True   True  False  False  False  False  False    7.0        False   \n",
       "3   True   True  False  False   True  False   True  False   14.0        False   \n",
       "4   True   True   True  False   True  False   True   True   20.0        False   \n",
       "\n",
       "   greater_heads  \n",
       "0           True  \n",
       "1           True  \n",
       "2           True  \n",
       "3           True  \n",
       "4           True  "
      ]
     },
     "execution_count": 23,
     "metadata": {},
     "output_type": "execute_result"
    }
   ],
   "source": [
    "#add and name columns\n",
    "df['heads']=df.sum(axis=1)#sums the number of heads(\"True\") across columns i.e. \"rows\"\n",
    "df['three_heads']=df.heads == 3#counts the number of heads(\"True\") equal to 3\n",
    "df['greater_heads']=df.heads >= 3#counts the number of heads(\"True\") greater then to 3\n",
    "df.head()"
   ]
  },
  {
   "cell_type": "code",
   "execution_count": 24,
   "id": "dcf06e9d",
   "metadata": {},
   "outputs": [
    {
     "data": {
      "text/plain": [
       "0.03143"
      ]
     },
     "execution_count": 24,
     "metadata": {},
     "output_type": "execute_result"
    }
   ],
   "source": [
    "df.three_heads.mean()#probability of hitting exactly three heads"
   ]
  },
  {
   "cell_type": "code",
   "execution_count": 25,
   "id": "fb48a96f",
   "metadata": {},
   "outputs": [
    {
     "data": {
      "text/plain": [
       "0.99627"
      ]
     },
     "execution_count": 25,
     "metadata": {},
     "output_type": "execute_result"
    }
   ],
   "source": [
    "df.greater_heads.mean()#probability of hitting greater then three heads"
   ]
  },
  {
   "cell_type": "markdown",
   "id": "ead7a8b0",
   "metadata": {},
   "source": [
    "# 3. There are approximitely 3 web development cohorts for every 1 data science cohort at Codeup. Assuming that Codeup randomly selects an alumni to put on a billboard, what are the odds that the two billboards I drive past both have data science students on them?"
   ]
  },
  {
   "cell_type": "code",
   "execution_count": 29,
   "id": "a5a8c8e8",
   "metadata": {},
   "outputs": [
    {
     "data": {
      "text/plain": [
       "array([[False, False, False, False],\n",
       "       [False,  True,  True,  True],\n",
       "       [ True,  True, False, False],\n",
       "       ...,\n",
       "       [ True, False, False,  True],\n",
       "       [False,  True,  True,  True],\n",
       "       [False,  True, False, False]])"
      ]
     },
     "execution_count": 29,
     "metadata": {},
     "output_type": "execute_result"
    }
   ],
   "source": [
    "nrows = 100_000 #number times to run the sim\n",
    "ncols = 4 #number of columns - 1 per cohort\n",
    "#individual cohorts \n",
    "outcomes = [True, False] #True = data & False = web\n",
    "#run sim\n",
    "select = np.random.choice(outcomes, nrows*ncols).reshape(nrows,ncols)\n",
    "select\n"
   ]
  },
  {
   "cell_type": "code",
   "execution_count": 30,
   "id": "43bb906f",
   "metadata": {},
   "outputs": [
    {
     "data": {
      "text/html": [
       "<div>\n",
       "<style scoped>\n",
       "    .dataframe tbody tr th:only-of-type {\n",
       "        vertical-align: middle;\n",
       "    }\n",
       "\n",
       "    .dataframe tbody tr th {\n",
       "        vertical-align: top;\n",
       "    }\n",
       "\n",
       "    .dataframe thead th {\n",
       "        text-align: right;\n",
       "    }\n",
       "</style>\n",
       "<table border=\"1\" class=\"dataframe\">\n",
       "  <thead>\n",
       "    <tr style=\"text-align: right;\">\n",
       "      <th></th>\n",
       "      <th>0</th>\n",
       "      <th>1</th>\n",
       "      <th>2</th>\n",
       "      <th>3</th>\n",
       "    </tr>\n",
       "  </thead>\n",
       "  <tbody>\n",
       "    <tr>\n",
       "      <th>0</th>\n",
       "      <td>False</td>\n",
       "      <td>False</td>\n",
       "      <td>False</td>\n",
       "      <td>False</td>\n",
       "    </tr>\n",
       "    <tr>\n",
       "      <th>1</th>\n",
       "      <td>False</td>\n",
       "      <td>True</td>\n",
       "      <td>True</td>\n",
       "      <td>True</td>\n",
       "    </tr>\n",
       "    <tr>\n",
       "      <th>2</th>\n",
       "      <td>True</td>\n",
       "      <td>True</td>\n",
       "      <td>False</td>\n",
       "      <td>False</td>\n",
       "    </tr>\n",
       "    <tr>\n",
       "      <th>3</th>\n",
       "      <td>True</td>\n",
       "      <td>False</td>\n",
       "      <td>False</td>\n",
       "      <td>True</td>\n",
       "    </tr>\n",
       "    <tr>\n",
       "      <th>4</th>\n",
       "      <td>False</td>\n",
       "      <td>False</td>\n",
       "      <td>True</td>\n",
       "      <td>False</td>\n",
       "    </tr>\n",
       "  </tbody>\n",
       "</table>\n",
       "</div>"
      ],
      "text/plain": [
       "       0      1      2      3\n",
       "0  False  False  False  False\n",
       "1  False   True   True   True\n",
       "2   True   True  False  False\n",
       "3   True  False  False   True\n",
       "4  False  False   True  False"
      ]
     },
     "execution_count": 30,
     "metadata": {},
     "output_type": "execute_result"
    }
   ],
   "source": [
    "df=pd.DataFrame(select)#create df\n",
    "df.head()"
   ]
  },
  {
   "cell_type": "code",
   "execution_count": 33,
   "id": "a396914d",
   "metadata": {},
   "outputs": [],
   "source": [
    "#add and name colums\n",
    "df['billboard']=df.sum(axis=1)#sums the number of \"true\" and adds the total into the \"billboard\" column"
   ]
  },
  {
   "cell_type": "code",
   "execution_count": 36,
   "id": "827f9054",
   "metadata": {},
   "outputs": [
    {
     "data": {
      "text/html": [
       "<div>\n",
       "<style scoped>\n",
       "    .dataframe tbody tr th:only-of-type {\n",
       "        vertical-align: middle;\n",
       "    }\n",
       "\n",
       "    .dataframe tbody tr th {\n",
       "        vertical-align: top;\n",
       "    }\n",
       "\n",
       "    .dataframe thead th {\n",
       "        text-align: right;\n",
       "    }\n",
       "</style>\n",
       "<table border=\"1\" class=\"dataframe\">\n",
       "  <thead>\n",
       "    <tr style=\"text-align: right;\">\n",
       "      <th></th>\n",
       "      <th>0</th>\n",
       "      <th>1</th>\n",
       "      <th>2</th>\n",
       "      <th>3</th>\n",
       "      <th>billboard</th>\n",
       "      <th>data</th>\n",
       "    </tr>\n",
       "  </thead>\n",
       "  <tbody>\n",
       "    <tr>\n",
       "      <th>0</th>\n",
       "      <td>False</td>\n",
       "      <td>False</td>\n",
       "      <td>False</td>\n",
       "      <td>False</td>\n",
       "      <td>0</td>\n",
       "      <td>False</td>\n",
       "    </tr>\n",
       "    <tr>\n",
       "      <th>1</th>\n",
       "      <td>False</td>\n",
       "      <td>True</td>\n",
       "      <td>True</td>\n",
       "      <td>True</td>\n",
       "      <td>3</td>\n",
       "      <td>False</td>\n",
       "    </tr>\n",
       "    <tr>\n",
       "      <th>2</th>\n",
       "      <td>True</td>\n",
       "      <td>True</td>\n",
       "      <td>False</td>\n",
       "      <td>False</td>\n",
       "      <td>2</td>\n",
       "      <td>True</td>\n",
       "    </tr>\n",
       "    <tr>\n",
       "      <th>3</th>\n",
       "      <td>True</td>\n",
       "      <td>False</td>\n",
       "      <td>False</td>\n",
       "      <td>True</td>\n",
       "      <td>2</td>\n",
       "      <td>True</td>\n",
       "    </tr>\n",
       "    <tr>\n",
       "      <th>4</th>\n",
       "      <td>False</td>\n",
       "      <td>False</td>\n",
       "      <td>True</td>\n",
       "      <td>False</td>\n",
       "      <td>1</td>\n",
       "      <td>False</td>\n",
       "    </tr>\n",
       "  </tbody>\n",
       "</table>\n",
       "</div>"
      ],
      "text/plain": [
       "       0      1      2      3  billboard   data\n",
       "0  False  False  False  False          0  False\n",
       "1  False   True   True   True          3  False\n",
       "2   True   True  False  False          2   True\n",
       "3   True  False  False   True          2   True\n",
       "4  False  False   True  False          1  False"
      ]
     },
     "execution_count": 36,
     "metadata": {},
     "output_type": "execute_result"
    }
   ],
   "source": [
    "df['data']=df.billboard==2#based on the equation enters true or false\n",
    "df.head()"
   ]
  },
  {
   "cell_type": "code",
   "execution_count": 37,
   "id": "ecc1f71f",
   "metadata": {},
   "outputs": [
    {
     "data": {
      "text/plain": [
       "0.37565"
      ]
     },
     "execution_count": 37,
     "metadata": {},
     "output_type": "execute_result"
    }
   ],
   "source": [
    "df.data.mean()#probability based on the equation above."
   ]
  },
  {
   "cell_type": "markdown",
   "id": "6841e049",
   "metadata": {},
   "source": [
    "# 4. Codeup students buy, on average, 3 poptart packages with a standard deviation of 1.5 a day from the snack vending machine. If on monday the machine is restocked with 17 poptart packages, how likely is it that I will be able to buy some poptarts on Friday afternoon? (Remember, if you have mean and standard deviation, use the np.random.normal)"
   ]
  },
  {
   "cell_type": "code",
   "execution_count": 38,
   "id": "0afab3df",
   "metadata": {},
   "outputs": [
    {
     "data": {
      "text/plain": [
       "array([[3, 3, 2, 1, 2],\n",
       "       [3, 5, 4, 5, 5],\n",
       "       [4, 4, 6, 4, 0],\n",
       "       ...,\n",
       "       [3, 3, 4, 1, 2],\n",
       "       [1, 2, 4, 0, 2],\n",
       "       [2, 3, 0, 2, 2]])"
      ]
     },
     "execution_count": 38,
     "metadata": {},
     "output_type": "execute_result"
    }
   ],
   "source": [
    "nrows = 100_000 # number of times to run the sim\n",
    "ncols = 5 # number of occurences\n",
    "#.normal \"generates numbers from a normal distribution with a specified mean and standard deviation\"\n",
    "#\"3,1.5\" -- \"3\" is the number of poptarts & \"1.5\" is the standard deviation\n",
    "#\".astype(int)\" changes it to a round number(rounds up).\n",
    "poptarts = np.random.normal(3,1.5, nrows*ncols).astype(int).reshape(nrows,ncols)\n",
    "poptarts"
   ]
  },
  {
   "cell_type": "code",
   "execution_count": 39,
   "id": "00236430",
   "metadata": {},
   "outputs": [
    {
     "data": {
      "text/html": [
       "<div>\n",
       "<style scoped>\n",
       "    .dataframe tbody tr th:only-of-type {\n",
       "        vertical-align: middle;\n",
       "    }\n",
       "\n",
       "    .dataframe tbody tr th {\n",
       "        vertical-align: top;\n",
       "    }\n",
       "\n",
       "    .dataframe thead th {\n",
       "        text-align: right;\n",
       "    }\n",
       "</style>\n",
       "<table border=\"1\" class=\"dataframe\">\n",
       "  <thead>\n",
       "    <tr style=\"text-align: right;\">\n",
       "      <th></th>\n",
       "      <th>0</th>\n",
       "      <th>1</th>\n",
       "      <th>2</th>\n",
       "      <th>3</th>\n",
       "      <th>4</th>\n",
       "    </tr>\n",
       "  </thead>\n",
       "  <tbody>\n",
       "    <tr>\n",
       "      <th>0</th>\n",
       "      <td>3</td>\n",
       "      <td>3</td>\n",
       "      <td>2</td>\n",
       "      <td>1</td>\n",
       "      <td>2</td>\n",
       "    </tr>\n",
       "    <tr>\n",
       "      <th>1</th>\n",
       "      <td>3</td>\n",
       "      <td>5</td>\n",
       "      <td>4</td>\n",
       "      <td>5</td>\n",
       "      <td>5</td>\n",
       "    </tr>\n",
       "    <tr>\n",
       "      <th>2</th>\n",
       "      <td>4</td>\n",
       "      <td>4</td>\n",
       "      <td>6</td>\n",
       "      <td>4</td>\n",
       "      <td>0</td>\n",
       "    </tr>\n",
       "    <tr>\n",
       "      <th>3</th>\n",
       "      <td>-1</td>\n",
       "      <td>3</td>\n",
       "      <td>1</td>\n",
       "      <td>3</td>\n",
       "      <td>2</td>\n",
       "    </tr>\n",
       "    <tr>\n",
       "      <th>4</th>\n",
       "      <td>1</td>\n",
       "      <td>2</td>\n",
       "      <td>2</td>\n",
       "      <td>5</td>\n",
       "      <td>4</td>\n",
       "    </tr>\n",
       "  </tbody>\n",
       "</table>\n",
       "</div>"
      ],
      "text/plain": [
       "   0  1  2  3  4\n",
       "0  3  3  2  1  2\n",
       "1  3  5  4  5  5\n",
       "2  4  4  6  4  0\n",
       "3 -1  3  1  3  2\n",
       "4  1  2  2  5  4"
      ]
     },
     "execution_count": 39,
     "metadata": {},
     "output_type": "execute_result"
    }
   ],
   "source": [
    "df=pd.DataFrame(poptarts)#create df\n",
    "df.head()"
   ]
  },
  {
   "cell_type": "code",
   "execution_count": 40,
   "id": "2654a55d",
   "metadata": {},
   "outputs": [
    {
     "data": {
      "text/html": [
       "<div>\n",
       "<style scoped>\n",
       "    .dataframe tbody tr th:only-of-type {\n",
       "        vertical-align: middle;\n",
       "    }\n",
       "\n",
       "    .dataframe tbody tr th {\n",
       "        vertical-align: top;\n",
       "    }\n",
       "\n",
       "    .dataframe thead th {\n",
       "        text-align: right;\n",
       "    }\n",
       "</style>\n",
       "<table border=\"1\" class=\"dataframe\">\n",
       "  <thead>\n",
       "    <tr style=\"text-align: right;\">\n",
       "      <th></th>\n",
       "      <th>0</th>\n",
       "      <th>1</th>\n",
       "      <th>2</th>\n",
       "      <th>3</th>\n",
       "      <th>4</th>\n",
       "      <th>bought</th>\n",
       "      <th>remaining</th>\n",
       "    </tr>\n",
       "  </thead>\n",
       "  <tbody>\n",
       "    <tr>\n",
       "      <th>0</th>\n",
       "      <td>3</td>\n",
       "      <td>3</td>\n",
       "      <td>2</td>\n",
       "      <td>1</td>\n",
       "      <td>2</td>\n",
       "      <td>11</td>\n",
       "      <td>True</td>\n",
       "    </tr>\n",
       "    <tr>\n",
       "      <th>1</th>\n",
       "      <td>3</td>\n",
       "      <td>5</td>\n",
       "      <td>4</td>\n",
       "      <td>5</td>\n",
       "      <td>5</td>\n",
       "      <td>22</td>\n",
       "      <td>False</td>\n",
       "    </tr>\n",
       "    <tr>\n",
       "      <th>2</th>\n",
       "      <td>4</td>\n",
       "      <td>4</td>\n",
       "      <td>6</td>\n",
       "      <td>4</td>\n",
       "      <td>0</td>\n",
       "      <td>18</td>\n",
       "      <td>False</td>\n",
       "    </tr>\n",
       "    <tr>\n",
       "      <th>3</th>\n",
       "      <td>-1</td>\n",
       "      <td>3</td>\n",
       "      <td>1</td>\n",
       "      <td>3</td>\n",
       "      <td>2</td>\n",
       "      <td>8</td>\n",
       "      <td>True</td>\n",
       "    </tr>\n",
       "    <tr>\n",
       "      <th>4</th>\n",
       "      <td>1</td>\n",
       "      <td>2</td>\n",
       "      <td>2</td>\n",
       "      <td>5</td>\n",
       "      <td>4</td>\n",
       "      <td>14</td>\n",
       "      <td>True</td>\n",
       "    </tr>\n",
       "  </tbody>\n",
       "</table>\n",
       "</div>"
      ],
      "text/plain": [
       "   0  1  2  3  4  bought  remaining\n",
       "0  3  3  2  1  2      11       True\n",
       "1  3  5  4  5  5      22      False\n",
       "2  4  4  6  4  0      18      False\n",
       "3 -1  3  1  3  2       8       True\n",
       "4  1  2  2  5  4      14       True"
      ]
     },
     "execution_count": 40,
     "metadata": {},
     "output_type": "execute_result"
    }
   ],
   "source": [
    "df['bought']=df.sum(axis=1)#totals the values across columns to give me the total potarts bought mon-fri\n",
    "df['remaining']=df['bought']<17#remaining poptarts on friday\n",
    "df.head()"
   ]
  },
  {
   "cell_type": "code",
   "execution_count": 41,
   "id": "5fc1dfa0",
   "metadata": {},
   "outputs": [
    {
     "data": {
      "text/plain": [
       "0.87955"
      ]
     },
     "execution_count": 41,
     "metadata": {},
     "output_type": "execute_result"
    }
   ],
   "source": [
    "df.remaining.mean()"
   ]
  },
  {
   "cell_type": "markdown",
   "id": "85087642",
   "metadata": {},
   "source": [
    "# 5. Compare Heights:\n",
    "    -Men have an average height of 178 cm and standard deviation of 8cm.\n",
    "    -Women have a mean of 170, sd = 6cm.\n",
    "    -Since you have means and standard deviations, you can use np.random.normal to generate observations.\n",
    "    -If a man and woman are chosen at random, P(woman taller than man)?"
   ]
  },
  {
   "cell_type": "code",
   "execution_count": 42,
   "id": "b79b0950",
   "metadata": {},
   "outputs": [
    {
     "data": {
      "text/html": [
       "<div>\n",
       "<style scoped>\n",
       "    .dataframe tbody tr th:only-of-type {\n",
       "        vertical-align: middle;\n",
       "    }\n",
       "\n",
       "    .dataframe tbody tr th {\n",
       "        vertical-align: top;\n",
       "    }\n",
       "\n",
       "    .dataframe thead th {\n",
       "        text-align: right;\n",
       "    }\n",
       "</style>\n",
       "<table border=\"1\" class=\"dataframe\">\n",
       "  <thead>\n",
       "    <tr style=\"text-align: right;\">\n",
       "      <th></th>\n",
       "      <th>male</th>\n",
       "      <th>female</th>\n",
       "    </tr>\n",
       "  </thead>\n",
       "  <tbody>\n",
       "    <tr>\n",
       "      <th>0</th>\n",
       "      <td>181.195155</td>\n",
       "      <td>170.749811</td>\n",
       "    </tr>\n",
       "    <tr>\n",
       "      <th>1</th>\n",
       "      <td>166.043120</td>\n",
       "      <td>173.661036</td>\n",
       "    </tr>\n",
       "    <tr>\n",
       "      <th>2</th>\n",
       "      <td>188.605237</td>\n",
       "      <td>178.045574</td>\n",
       "    </tr>\n",
       "    <tr>\n",
       "      <th>3</th>\n",
       "      <td>179.866107</td>\n",
       "      <td>171.572755</td>\n",
       "    </tr>\n",
       "    <tr>\n",
       "      <th>4</th>\n",
       "      <td>171.662900</td>\n",
       "      <td>173.212119</td>\n",
       "    </tr>\n",
       "  </tbody>\n",
       "</table>\n",
       "</div>"
      ],
      "text/plain": [
       "         male      female\n",
       "0  181.195155  170.749811\n",
       "1  166.043120  173.661036\n",
       "2  188.605237  178.045574\n",
       "3  179.866107  171.572755\n",
       "4  171.662900  173.212119"
      ]
     },
     "execution_count": 42,
     "metadata": {},
     "output_type": "execute_result"
    }
   ],
   "source": [
    "#because there are two sets of heights and standards of deviations. \n",
    "#create two variables\n",
    "male=np.random.normal(178,8,100_000)\n",
    "female=np.random.normal(170,6,100_000)\n",
    "#now create df as normal\n",
    "df = pd.DataFrame({'male': male, 'female': female})\n",
    "df.head()"
   ]
  },
  {
   "cell_type": "code",
   "execution_count": 43,
   "id": "6ba9de17",
   "metadata": {},
   "outputs": [
    {
     "data": {
      "text/html": [
       "<div>\n",
       "<style scoped>\n",
       "    .dataframe tbody tr th:only-of-type {\n",
       "        vertical-align: middle;\n",
       "    }\n",
       "\n",
       "    .dataframe tbody tr th {\n",
       "        vertical-align: top;\n",
       "    }\n",
       "\n",
       "    .dataframe thead th {\n",
       "        text-align: right;\n",
       "    }\n",
       "</style>\n",
       "<table border=\"1\" class=\"dataframe\">\n",
       "  <thead>\n",
       "    <tr style=\"text-align: right;\">\n",
       "      <th></th>\n",
       "      <th>male</th>\n",
       "      <th>female</th>\n",
       "      <th>taller</th>\n",
       "    </tr>\n",
       "  </thead>\n",
       "  <tbody>\n",
       "    <tr>\n",
       "      <th>0</th>\n",
       "      <td>181.195155</td>\n",
       "      <td>170.749811</td>\n",
       "      <td>False</td>\n",
       "    </tr>\n",
       "    <tr>\n",
       "      <th>1</th>\n",
       "      <td>166.043120</td>\n",
       "      <td>173.661036</td>\n",
       "      <td>True</td>\n",
       "    </tr>\n",
       "    <tr>\n",
       "      <th>2</th>\n",
       "      <td>188.605237</td>\n",
       "      <td>178.045574</td>\n",
       "      <td>False</td>\n",
       "    </tr>\n",
       "    <tr>\n",
       "      <th>3</th>\n",
       "      <td>179.866107</td>\n",
       "      <td>171.572755</td>\n",
       "      <td>False</td>\n",
       "    </tr>\n",
       "    <tr>\n",
       "      <th>4</th>\n",
       "      <td>171.662900</td>\n",
       "      <td>173.212119</td>\n",
       "      <td>True</td>\n",
       "    </tr>\n",
       "  </tbody>\n",
       "</table>\n",
       "</div>"
      ],
      "text/plain": [
       "         male      female  taller\n",
       "0  181.195155  170.749811   False\n",
       "1  166.043120  173.661036    True\n",
       "2  188.605237  178.045574   False\n",
       "3  179.866107  171.572755   False\n",
       "4  171.662900  173.212119    True"
      ]
     },
     "execution_count": 43,
     "metadata": {},
     "output_type": "execute_result"
    }
   ],
   "source": [
    "#who's taller....? add and name a new columm with \"true\" or \"false\" to the df\n",
    "df['taller']=df.male<df.female#we are looking for women taller then men\n",
    "df.head()"
   ]
  },
  {
   "cell_type": "code",
   "execution_count": 44,
   "id": "7c585106",
   "metadata": {},
   "outputs": [
    {
     "data": {
      "text/plain": [
       "0.21235"
      ]
     },
     "execution_count": 44,
     "metadata": {},
     "output_type": "execute_result"
    }
   ],
   "source": [
    "df.taller.mean()"
   ]
  },
  {
   "cell_type": "markdown",
   "id": "1c443029",
   "metadata": {},
   "source": [
    "# 6. When installing anaconda on a student's computer, there's a 1 in 250 chance that the download is corrupted and the installation fails. What are the odds that after having 50 students download anaconda, no one has an installation issue? 100 students?"
   ]
  },
  {
   "cell_type": "code",
   "execution_count": 45,
   "id": "4670972d",
   "metadata": {},
   "outputs": [
    {
     "data": {
      "text/plain": [
       "array([[False, False, False, ..., False, False, False],\n",
       "       [False, False, False, ...,  True, False, False],\n",
       "       [False, False, False, ..., False, False, False],\n",
       "       ...,\n",
       "       [False, False, False, ..., False, False, False],\n",
       "       [False, False, False, ..., False, False, False],\n",
       "       [False, False, False, ..., False, False, False]])"
      ]
     },
     "execution_count": 45,
     "metadata": {},
     "output_type": "execute_result"
    }
   ],
   "source": [
    "nrows = 100_000\n",
    "ncols = 50#number of students\n",
    "\n",
    "chance = [False for r in range(1, 250)]#setting up the false for the 1 in 250 chance that it WILL fail.\n",
    "chance.append(True)\n",
    "\n",
    "installs=np.random.choice(chance, nrows*ncols).reshape(nrows,ncols)\n",
    "installs"
   ]
  },
  {
   "cell_type": "code",
   "execution_count": 46,
   "id": "c307b2ca",
   "metadata": {},
   "outputs": [
    {
     "data": {
      "text/html": [
       "<div>\n",
       "<style scoped>\n",
       "    .dataframe tbody tr th:only-of-type {\n",
       "        vertical-align: middle;\n",
       "    }\n",
       "\n",
       "    .dataframe tbody tr th {\n",
       "        vertical-align: top;\n",
       "    }\n",
       "\n",
       "    .dataframe thead th {\n",
       "        text-align: right;\n",
       "    }\n",
       "</style>\n",
       "<table border=\"1\" class=\"dataframe\">\n",
       "  <thead>\n",
       "    <tr style=\"text-align: right;\">\n",
       "      <th></th>\n",
       "      <th>0</th>\n",
       "      <th>1</th>\n",
       "      <th>2</th>\n",
       "      <th>3</th>\n",
       "      <th>4</th>\n",
       "      <th>5</th>\n",
       "      <th>6</th>\n",
       "      <th>7</th>\n",
       "      <th>8</th>\n",
       "      <th>9</th>\n",
       "      <th>...</th>\n",
       "      <th>40</th>\n",
       "      <th>41</th>\n",
       "      <th>42</th>\n",
       "      <th>43</th>\n",
       "      <th>44</th>\n",
       "      <th>45</th>\n",
       "      <th>46</th>\n",
       "      <th>47</th>\n",
       "      <th>48</th>\n",
       "      <th>49</th>\n",
       "    </tr>\n",
       "  </thead>\n",
       "  <tbody>\n",
       "    <tr>\n",
       "      <th>0</th>\n",
       "      <td>False</td>\n",
       "      <td>False</td>\n",
       "      <td>False</td>\n",
       "      <td>False</td>\n",
       "      <td>False</td>\n",
       "      <td>False</td>\n",
       "      <td>False</td>\n",
       "      <td>False</td>\n",
       "      <td>False</td>\n",
       "      <td>False</td>\n",
       "      <td>...</td>\n",
       "      <td>False</td>\n",
       "      <td>False</td>\n",
       "      <td>True</td>\n",
       "      <td>False</td>\n",
       "      <td>False</td>\n",
       "      <td>False</td>\n",
       "      <td>False</td>\n",
       "      <td>False</td>\n",
       "      <td>False</td>\n",
       "      <td>False</td>\n",
       "    </tr>\n",
       "    <tr>\n",
       "      <th>1</th>\n",
       "      <td>False</td>\n",
       "      <td>False</td>\n",
       "      <td>False</td>\n",
       "      <td>False</td>\n",
       "      <td>False</td>\n",
       "      <td>False</td>\n",
       "      <td>False</td>\n",
       "      <td>False</td>\n",
       "      <td>False</td>\n",
       "      <td>False</td>\n",
       "      <td>...</td>\n",
       "      <td>False</td>\n",
       "      <td>False</td>\n",
       "      <td>False</td>\n",
       "      <td>False</td>\n",
       "      <td>False</td>\n",
       "      <td>False</td>\n",
       "      <td>False</td>\n",
       "      <td>True</td>\n",
       "      <td>False</td>\n",
       "      <td>False</td>\n",
       "    </tr>\n",
       "    <tr>\n",
       "      <th>2</th>\n",
       "      <td>False</td>\n",
       "      <td>False</td>\n",
       "      <td>False</td>\n",
       "      <td>False</td>\n",
       "      <td>False</td>\n",
       "      <td>False</td>\n",
       "      <td>False</td>\n",
       "      <td>False</td>\n",
       "      <td>False</td>\n",
       "      <td>False</td>\n",
       "      <td>...</td>\n",
       "      <td>False</td>\n",
       "      <td>False</td>\n",
       "      <td>False</td>\n",
       "      <td>False</td>\n",
       "      <td>False</td>\n",
       "      <td>False</td>\n",
       "      <td>False</td>\n",
       "      <td>False</td>\n",
       "      <td>False</td>\n",
       "      <td>False</td>\n",
       "    </tr>\n",
       "    <tr>\n",
       "      <th>3</th>\n",
       "      <td>False</td>\n",
       "      <td>False</td>\n",
       "      <td>False</td>\n",
       "      <td>False</td>\n",
       "      <td>False</td>\n",
       "      <td>False</td>\n",
       "      <td>False</td>\n",
       "      <td>False</td>\n",
       "      <td>False</td>\n",
       "      <td>False</td>\n",
       "      <td>...</td>\n",
       "      <td>False</td>\n",
       "      <td>False</td>\n",
       "      <td>False</td>\n",
       "      <td>False</td>\n",
       "      <td>False</td>\n",
       "      <td>False</td>\n",
       "      <td>False</td>\n",
       "      <td>False</td>\n",
       "      <td>False</td>\n",
       "      <td>False</td>\n",
       "    </tr>\n",
       "    <tr>\n",
       "      <th>4</th>\n",
       "      <td>False</td>\n",
       "      <td>False</td>\n",
       "      <td>False</td>\n",
       "      <td>False</td>\n",
       "      <td>False</td>\n",
       "      <td>False</td>\n",
       "      <td>False</td>\n",
       "      <td>False</td>\n",
       "      <td>False</td>\n",
       "      <td>False</td>\n",
       "      <td>...</td>\n",
       "      <td>False</td>\n",
       "      <td>False</td>\n",
       "      <td>False</td>\n",
       "      <td>False</td>\n",
       "      <td>False</td>\n",
       "      <td>False</td>\n",
       "      <td>False</td>\n",
       "      <td>False</td>\n",
       "      <td>False</td>\n",
       "      <td>False</td>\n",
       "    </tr>\n",
       "  </tbody>\n",
       "</table>\n",
       "<p>5 rows × 50 columns</p>\n",
       "</div>"
      ],
      "text/plain": [
       "      0      1      2      3      4      5      6      7      8      9   ...  \\\n",
       "0  False  False  False  False  False  False  False  False  False  False  ...   \n",
       "1  False  False  False  False  False  False  False  False  False  False  ...   \n",
       "2  False  False  False  False  False  False  False  False  False  False  ...   \n",
       "3  False  False  False  False  False  False  False  False  False  False  ...   \n",
       "4  False  False  False  False  False  False  False  False  False  False  ...   \n",
       "\n",
       "      40     41     42     43     44     45     46     47     48     49  \n",
       "0  False  False   True  False  False  False  False  False  False  False  \n",
       "1  False  False  False  False  False  False  False   True  False  False  \n",
       "2  False  False  False  False  False  False  False  False  False  False  \n",
       "3  False  False  False  False  False  False  False  False  False  False  \n",
       "4  False  False  False  False  False  False  False  False  False  False  \n",
       "\n",
       "[5 rows x 50 columns]"
      ]
     },
     "execution_count": 46,
     "metadata": {},
     "output_type": "execute_result"
    }
   ],
   "source": [
    "#build the df\n",
    "df = pd.DataFrame(installs)\n",
    "df.head()"
   ]
  },
  {
   "cell_type": "code",
   "execution_count": 49,
   "id": "8ee2ddf3",
   "metadata": {},
   "outputs": [
    {
     "data": {
      "text/html": [
       "<div>\n",
       "<style scoped>\n",
       "    .dataframe tbody tr th:only-of-type {\n",
       "        vertical-align: middle;\n",
       "    }\n",
       "\n",
       "    .dataframe tbody tr th {\n",
       "        vertical-align: top;\n",
       "    }\n",
       "\n",
       "    .dataframe thead th {\n",
       "        text-align: right;\n",
       "    }\n",
       "</style>\n",
       "<table border=\"1\" class=\"dataframe\">\n",
       "  <thead>\n",
       "    <tr style=\"text-align: right;\">\n",
       "      <th></th>\n",
       "      <th>0</th>\n",
       "      <th>1</th>\n",
       "      <th>2</th>\n",
       "      <th>3</th>\n",
       "      <th>4</th>\n",
       "      <th>5</th>\n",
       "      <th>6</th>\n",
       "      <th>7</th>\n",
       "      <th>8</th>\n",
       "      <th>9</th>\n",
       "      <th>...</th>\n",
       "      <th>41</th>\n",
       "      <th>42</th>\n",
       "      <th>43</th>\n",
       "      <th>44</th>\n",
       "      <th>45</th>\n",
       "      <th>46</th>\n",
       "      <th>47</th>\n",
       "      <th>48</th>\n",
       "      <th>49</th>\n",
       "      <th>no_error</th>\n",
       "    </tr>\n",
       "  </thead>\n",
       "  <tbody>\n",
       "    <tr>\n",
       "      <th>0</th>\n",
       "      <td>False</td>\n",
       "      <td>False</td>\n",
       "      <td>False</td>\n",
       "      <td>False</td>\n",
       "      <td>False</td>\n",
       "      <td>False</td>\n",
       "      <td>False</td>\n",
       "      <td>False</td>\n",
       "      <td>False</td>\n",
       "      <td>False</td>\n",
       "      <td>...</td>\n",
       "      <td>False</td>\n",
       "      <td>True</td>\n",
       "      <td>False</td>\n",
       "      <td>False</td>\n",
       "      <td>False</td>\n",
       "      <td>False</td>\n",
       "      <td>False</td>\n",
       "      <td>False</td>\n",
       "      <td>False</td>\n",
       "      <td>False</td>\n",
       "    </tr>\n",
       "    <tr>\n",
       "      <th>1</th>\n",
       "      <td>False</td>\n",
       "      <td>False</td>\n",
       "      <td>False</td>\n",
       "      <td>False</td>\n",
       "      <td>False</td>\n",
       "      <td>False</td>\n",
       "      <td>False</td>\n",
       "      <td>False</td>\n",
       "      <td>False</td>\n",
       "      <td>False</td>\n",
       "      <td>...</td>\n",
       "      <td>False</td>\n",
       "      <td>False</td>\n",
       "      <td>False</td>\n",
       "      <td>False</td>\n",
       "      <td>False</td>\n",
       "      <td>False</td>\n",
       "      <td>True</td>\n",
       "      <td>False</td>\n",
       "      <td>False</td>\n",
       "      <td>False</td>\n",
       "    </tr>\n",
       "    <tr>\n",
       "      <th>2</th>\n",
       "      <td>False</td>\n",
       "      <td>False</td>\n",
       "      <td>False</td>\n",
       "      <td>False</td>\n",
       "      <td>False</td>\n",
       "      <td>False</td>\n",
       "      <td>False</td>\n",
       "      <td>False</td>\n",
       "      <td>False</td>\n",
       "      <td>False</td>\n",
       "      <td>...</td>\n",
       "      <td>False</td>\n",
       "      <td>False</td>\n",
       "      <td>False</td>\n",
       "      <td>False</td>\n",
       "      <td>False</td>\n",
       "      <td>False</td>\n",
       "      <td>False</td>\n",
       "      <td>False</td>\n",
       "      <td>False</td>\n",
       "      <td>True</td>\n",
       "    </tr>\n",
       "    <tr>\n",
       "      <th>3</th>\n",
       "      <td>False</td>\n",
       "      <td>False</td>\n",
       "      <td>False</td>\n",
       "      <td>False</td>\n",
       "      <td>False</td>\n",
       "      <td>False</td>\n",
       "      <td>False</td>\n",
       "      <td>False</td>\n",
       "      <td>False</td>\n",
       "      <td>False</td>\n",
       "      <td>...</td>\n",
       "      <td>False</td>\n",
       "      <td>False</td>\n",
       "      <td>False</td>\n",
       "      <td>False</td>\n",
       "      <td>False</td>\n",
       "      <td>False</td>\n",
       "      <td>False</td>\n",
       "      <td>False</td>\n",
       "      <td>False</td>\n",
       "      <td>True</td>\n",
       "    </tr>\n",
       "    <tr>\n",
       "      <th>4</th>\n",
       "      <td>False</td>\n",
       "      <td>False</td>\n",
       "      <td>False</td>\n",
       "      <td>False</td>\n",
       "      <td>False</td>\n",
       "      <td>False</td>\n",
       "      <td>False</td>\n",
       "      <td>False</td>\n",
       "      <td>False</td>\n",
       "      <td>False</td>\n",
       "      <td>...</td>\n",
       "      <td>False</td>\n",
       "      <td>False</td>\n",
       "      <td>False</td>\n",
       "      <td>False</td>\n",
       "      <td>False</td>\n",
       "      <td>False</td>\n",
       "      <td>False</td>\n",
       "      <td>False</td>\n",
       "      <td>False</td>\n",
       "      <td>False</td>\n",
       "    </tr>\n",
       "  </tbody>\n",
       "</table>\n",
       "<p>5 rows × 51 columns</p>\n",
       "</div>"
      ],
      "text/plain": [
       "       0      1      2      3      4      5      6      7      8      9  ...  \\\n",
       "0  False  False  False  False  False  False  False  False  False  False  ...   \n",
       "1  False  False  False  False  False  False  False  False  False  False  ...   \n",
       "2  False  False  False  False  False  False  False  False  False  False  ...   \n",
       "3  False  False  False  False  False  False  False  False  False  False  ...   \n",
       "4  False  False  False  False  False  False  False  False  False  False  ...   \n",
       "\n",
       "      41     42     43     44     45     46     47     48     49  no_error  \n",
       "0  False   True  False  False  False  False  False  False  False     False  \n",
       "1  False  False  False  False  False  False   True  False  False     False  \n",
       "2  False  False  False  False  False  False  False  False  False      True  \n",
       "3  False  False  False  False  False  False  False  False  False      True  \n",
       "4  False  False  False  False  False  False  False  False  False     False  \n",
       "\n",
       "[5 rows x 51 columns]"
      ]
     },
     "execution_count": 49,
     "metadata": {},
     "output_type": "execute_result"
    }
   ],
   "source": [
    "df['no_error']=df.sum(axis=1)==0#setting the df.sum to equal zero finds all \"0's\" and returns a TRUE value to caluclate the probability\n",
    "df.head()"
   ]
  },
  {
   "cell_type": "code",
   "execution_count": 50,
   "id": "c152bfdb",
   "metadata": {},
   "outputs": [
    {
     "data": {
      "text/plain": [
       "0.81871"
      ]
     },
     "execution_count": 50,
     "metadata": {},
     "output_type": "execute_result"
    }
   ],
   "source": [
    "df.no_error.mean()"
   ]
  },
  {
   "cell_type": "markdown",
   "id": "714440e6",
   "metadata": {},
   "source": [
    "### 100 students"
   ]
  },
  {
   "cell_type": "code",
   "execution_count": 53,
   "id": "c0781890",
   "metadata": {},
   "outputs": [
    {
     "data": {
      "text/plain": [
       "0.66881"
      ]
     },
     "execution_count": 53,
     "metadata": {},
     "output_type": "execute_result"
    }
   ],
   "source": [
    "nrows = 100_000\n",
    "ncols = 100#number of students\n",
    "\n",
    "chance = [False for r in range(1, 250)]#setting up the false for the 1 in 250 chance that it WILL fail.\n",
    "chance.append(True)\n",
    "\n",
    "installs=np.random.choice(chance, nrows*ncols).reshape(nrows,ncols)\n",
    "installs\n",
    "\n",
    "#build the df\n",
    "df = pd.DataFrame(installs)\n",
    "df.head()\n",
    "\n",
    "df['no_error']=df.sum(axis=1)==0\n",
    "df.head()\n",
    "\n",
    "df.no_error.mean()"
   ]
  },
  {
   "cell_type": "markdown",
   "id": "33a3bd83",
   "metadata": {},
   "source": [
    "### 150 students"
   ]
  },
  {
   "cell_type": "code",
   "execution_count": 54,
   "id": "46b667c7",
   "metadata": {},
   "outputs": [
    {
     "data": {
      "text/plain": [
       "0.54729"
      ]
     },
     "execution_count": 54,
     "metadata": {},
     "output_type": "execute_result"
    }
   ],
   "source": [
    "nrows = 100_000\n",
    "ncols = 150#number of students\n",
    "\n",
    "chance = [False for r in range(1, 250)]#setting up the false for the 1 in 250 chance that it WILL fail.\n",
    "chance.append(True)\n",
    "\n",
    "installs=np.random.choice(chance, nrows*ncols).reshape(nrows,ncols)\n",
    "installs\n",
    "\n",
    "#build the df\n",
    "df = pd.DataFrame(installs)\n",
    "df.head()\n",
    "\n",
    "df['no_error']=df.sum(axis=1)==0\n",
    "df.head()\n",
    "\n",
    "df.no_error.mean()"
   ]
  },
  {
   "cell_type": "markdown",
   "id": "c38c8fc3",
   "metadata": {},
   "source": [
    "### all 450 students"
   ]
  },
  {
   "cell_type": "code",
   "execution_count": 55,
   "id": "135a853e",
   "metadata": {},
   "outputs": [
    {
     "data": {
      "text/plain": [
       "0.16367"
      ]
     },
     "execution_count": 55,
     "metadata": {},
     "output_type": "execute_result"
    }
   ],
   "source": [
    "nrows = 100_000\n",
    "ncols = 450#number of students\n",
    "\n",
    "chance = [False for r in range(1, 250)]#setting up the false for the 1 in 250 chance that it WILL fail.\n",
    "chance.append(True)\n",
    "\n",
    "installs=np.random.choice(chance, nrows*ncols).reshape(nrows,ncols)\n",
    "installs\n",
    "\n",
    "#build the df\n",
    "df = pd.DataFrame(installs)\n",
    "df.head()\n",
    "\n",
    "df['no_error']=df.sum(axis=1)==0\n",
    "df.head()\n",
    "\n",
    "df.no_error.mean()"
   ]
  },
  {
   "cell_type": "markdown",
   "id": "49ff111a",
   "metadata": {},
   "source": [
    "# 7. There's a 70% chance on any given day that there will be at least one food truck at Travis Park. However, you haven't seen a food truck there in 3 days. How unlikely is this?"
   ]
  },
  {
   "cell_type": "code",
   "execution_count": 56,
   "id": "10d10a4a",
   "metadata": {},
   "outputs": [
    {
     "data": {
      "text/plain": [
       "array([[ True,  True, False],\n",
       "       [ True, False,  True],\n",
       "       [ True,  True,  True],\n",
       "       ...,\n",
       "       [False,  True, False],\n",
       "       [ True,  True,  True],\n",
       "       [ True,  True,  True]])"
      ]
     },
     "execution_count": 56,
     "metadata": {},
     "output_type": "execute_result"
    }
   ],
   "source": [
    "nrows = 100_000\n",
    "ncols = 3# number of days\n",
    "outcomes = [True, False] #True = show & False = noshow\n",
    "#run sim\n",
    "seen = np.random.choice(outcomes, nrows*ncols, p=[.7,.3]).reshape(nrows,ncols)#note \"p\" --- \"probaibility\". It is set at 70/30\n",
    "seen"
   ]
  },
  {
   "cell_type": "code",
   "execution_count": 57,
   "id": "d1ce9e28",
   "metadata": {},
   "outputs": [
    {
     "data": {
      "text/html": [
       "<div>\n",
       "<style scoped>\n",
       "    .dataframe tbody tr th:only-of-type {\n",
       "        vertical-align: middle;\n",
       "    }\n",
       "\n",
       "    .dataframe tbody tr th {\n",
       "        vertical-align: top;\n",
       "    }\n",
       "\n",
       "    .dataframe thead th {\n",
       "        text-align: right;\n",
       "    }\n",
       "</style>\n",
       "<table border=\"1\" class=\"dataframe\">\n",
       "  <thead>\n",
       "    <tr style=\"text-align: right;\">\n",
       "      <th></th>\n",
       "      <th>0</th>\n",
       "      <th>1</th>\n",
       "      <th>2</th>\n",
       "    </tr>\n",
       "  </thead>\n",
       "  <tbody>\n",
       "    <tr>\n",
       "      <th>0</th>\n",
       "      <td>True</td>\n",
       "      <td>True</td>\n",
       "      <td>False</td>\n",
       "    </tr>\n",
       "    <tr>\n",
       "      <th>1</th>\n",
       "      <td>True</td>\n",
       "      <td>False</td>\n",
       "      <td>True</td>\n",
       "    </tr>\n",
       "    <tr>\n",
       "      <th>2</th>\n",
       "      <td>True</td>\n",
       "      <td>True</td>\n",
       "      <td>True</td>\n",
       "    </tr>\n",
       "    <tr>\n",
       "      <th>3</th>\n",
       "      <td>True</td>\n",
       "      <td>True</td>\n",
       "      <td>True</td>\n",
       "    </tr>\n",
       "    <tr>\n",
       "      <th>4</th>\n",
       "      <td>True</td>\n",
       "      <td>False</td>\n",
       "      <td>True</td>\n",
       "    </tr>\n",
       "  </tbody>\n",
       "</table>\n",
       "</div>"
      ],
      "text/plain": [
       "      0      1      2\n",
       "0  True   True  False\n",
       "1  True  False   True\n",
       "2  True   True   True\n",
       "3  True   True   True\n",
       "4  True  False   True"
      ]
     },
     "execution_count": 57,
     "metadata": {},
     "output_type": "execute_result"
    }
   ],
   "source": [
    "#build the df\n",
    "df = pd.DataFrame(seen)\n",
    "df.head()"
   ]
  },
  {
   "cell_type": "code",
   "execution_count": 80,
   "id": "fc8e47d1",
   "metadata": {},
   "outputs": [
    {
     "data": {
      "text/html": [
       "<div>\n",
       "<style scoped>\n",
       "    .dataframe tbody tr th:only-of-type {\n",
       "        vertical-align: middle;\n",
       "    }\n",
       "\n",
       "    .dataframe tbody tr th {\n",
       "        vertical-align: top;\n",
       "    }\n",
       "\n",
       "    .dataframe thead th {\n",
       "        text-align: right;\n",
       "    }\n",
       "</style>\n",
       "<table border=\"1\" class=\"dataframe\">\n",
       "  <thead>\n",
       "    <tr style=\"text-align: right;\">\n",
       "      <th></th>\n",
       "      <th>0</th>\n",
       "      <th>1</th>\n",
       "      <th>2</th>\n",
       "      <th>noshow</th>\n",
       "    </tr>\n",
       "  </thead>\n",
       "  <tbody>\n",
       "    <tr>\n",
       "      <th>0</th>\n",
       "      <td>True</td>\n",
       "      <td>True</td>\n",
       "      <td>False</td>\n",
       "      <td>False</td>\n",
       "    </tr>\n",
       "    <tr>\n",
       "      <th>1</th>\n",
       "      <td>True</td>\n",
       "      <td>False</td>\n",
       "      <td>True</td>\n",
       "      <td>False</td>\n",
       "    </tr>\n",
       "    <tr>\n",
       "      <th>2</th>\n",
       "      <td>True</td>\n",
       "      <td>True</td>\n",
       "      <td>True</td>\n",
       "      <td>False</td>\n",
       "    </tr>\n",
       "    <tr>\n",
       "      <th>3</th>\n",
       "      <td>True</td>\n",
       "      <td>True</td>\n",
       "      <td>True</td>\n",
       "      <td>False</td>\n",
       "    </tr>\n",
       "    <tr>\n",
       "      <th>4</th>\n",
       "      <td>True</td>\n",
       "      <td>False</td>\n",
       "      <td>True</td>\n",
       "      <td>False</td>\n",
       "    </tr>\n",
       "  </tbody>\n",
       "</table>\n",
       "</div>"
      ],
      "text/plain": [
       "      0      1      2  noshow\n",
       "0  True   True  False   False\n",
       "1  True  False   True   False\n",
       "2  True   True   True   False\n",
       "3  True   True   True   False\n",
       "4  True  False   True   False"
      ]
     },
     "execution_count": 80,
     "metadata": {},
     "output_type": "execute_result"
    }
   ],
   "source": [
    "df['noshow']=df.sum(axis=1)==0#setting the df.sum to equal zero finds all \"0's\" and returns a TRUE value to caluclate the probability\n",
    "df.head()"
   ]
  },
  {
   "cell_type": "code",
   "execution_count": 81,
   "id": "ed1f4c1b",
   "metadata": {},
   "outputs": [
    {
     "data": {
      "text/plain": [
       "0.02675"
      ]
     },
     "execution_count": 81,
     "metadata": {},
     "output_type": "execute_result"
    }
   ],
   "source": [
    "df.noshow.mean()"
   ]
  },
  {
   "cell_type": "markdown",
   "id": "da4138b1",
   "metadata": {},
   "source": [
    "## How likely is it that a food truck will show up sometime this week?"
   ]
  },
  {
   "cell_type": "code",
   "execution_count": 82,
   "id": "5864c1f7",
   "metadata": {},
   "outputs": [
    {
     "data": {
      "text/plain": [
       "0.00248"
      ]
     },
     "execution_count": 82,
     "metadata": {},
     "output_type": "execute_result"
    }
   ],
   "source": [
    "nrows = 100_000\n",
    "ncols = 5# number of days in the week (M-F)\n",
    "outcomes = [True, False] #True = show & False = noshow\n",
    "#run sim\n",
    "seen = np.random.choice(outcomes, nrows*ncols, p=[.7,.3]).reshape(nrows,ncols)#note \"p\" --- \"probaibility\". It is set at 70/30\n",
    "seen\n",
    "#build the df\n",
    "df = pd.DataFrame(seen)\n",
    "df.head()\n",
    "df['noshow']=df.sum(axis=1)==0#setting the df.sum to equal zero finds all \"0's\" and returns a TRUE value to caluclate the probability\n",
    "df.head()\n",
    "df.noshow.mean()"
   ]
  },
  {
   "cell_type": "markdown",
   "id": "27a8cd9a",
   "metadata": {},
   "source": [
    "# 8. If 23 people are in the same room, what are the odds that two of them share a birthday? What if it's 20 people? 40?"
   ]
  },
  {
   "cell_type": "code",
   "execution_count": 87,
   "id": "7352c5ed",
   "metadata": {},
   "outputs": [
    {
     "data": {
      "text/plain": [
       "array([[353, 256, 283, ..., 167, 298,  80],\n",
       "       [102, 269,   8, ..., 250, 166,   7],\n",
       "       [130, 310, 248, ..., 216, 350, 146],\n",
       "       ...,\n",
       "       [140,  99, 343, ..., 178, 226, 265],\n",
       "       [ 61, 187, 314, ..., 126,  55, 353],\n",
       "       [316, 308, 239, ...,  20, 290, 334]])"
      ]
     },
     "execution_count": 87,
     "metadata": {},
     "output_type": "execute_result"
    }
   ],
   "source": [
    "nrows = 100_000\n",
    "ncols = 23#number of people in the room\n",
    "days = [r for r in range(366)]\n",
    "\n",
    "bdays=np.random.choice(days, nrows*ncols).reshape(nrows,ncols)\n",
    "bdays"
   ]
  },
  {
   "cell_type": "code",
   "execution_count": 88,
   "id": "8a341a6d",
   "metadata": {},
   "outputs": [
    {
     "data": {
      "text/html": [
       "<div>\n",
       "<style scoped>\n",
       "    .dataframe tbody tr th:only-of-type {\n",
       "        vertical-align: middle;\n",
       "    }\n",
       "\n",
       "    .dataframe tbody tr th {\n",
       "        vertical-align: top;\n",
       "    }\n",
       "\n",
       "    .dataframe thead th {\n",
       "        text-align: right;\n",
       "    }\n",
       "</style>\n",
       "<table border=\"1\" class=\"dataframe\">\n",
       "  <thead>\n",
       "    <tr style=\"text-align: right;\">\n",
       "      <th></th>\n",
       "      <th>0</th>\n",
       "      <th>1</th>\n",
       "      <th>2</th>\n",
       "      <th>3</th>\n",
       "      <th>4</th>\n",
       "      <th>5</th>\n",
       "      <th>6</th>\n",
       "      <th>7</th>\n",
       "      <th>8</th>\n",
       "      <th>9</th>\n",
       "      <th>...</th>\n",
       "      <th>13</th>\n",
       "      <th>14</th>\n",
       "      <th>15</th>\n",
       "      <th>16</th>\n",
       "      <th>17</th>\n",
       "      <th>18</th>\n",
       "      <th>19</th>\n",
       "      <th>20</th>\n",
       "      <th>21</th>\n",
       "      <th>22</th>\n",
       "    </tr>\n",
       "  </thead>\n",
       "  <tbody>\n",
       "    <tr>\n",
       "      <th>0</th>\n",
       "      <td>353</td>\n",
       "      <td>256</td>\n",
       "      <td>283</td>\n",
       "      <td>4</td>\n",
       "      <td>300</td>\n",
       "      <td>159</td>\n",
       "      <td>240</td>\n",
       "      <td>74</td>\n",
       "      <td>194</td>\n",
       "      <td>156</td>\n",
       "      <td>...</td>\n",
       "      <td>352</td>\n",
       "      <td>87</td>\n",
       "      <td>325</td>\n",
       "      <td>176</td>\n",
       "      <td>50</td>\n",
       "      <td>119</td>\n",
       "      <td>248</td>\n",
       "      <td>167</td>\n",
       "      <td>298</td>\n",
       "      <td>80</td>\n",
       "    </tr>\n",
       "    <tr>\n",
       "      <th>1</th>\n",
       "      <td>102</td>\n",
       "      <td>269</td>\n",
       "      <td>8</td>\n",
       "      <td>187</td>\n",
       "      <td>302</td>\n",
       "      <td>239</td>\n",
       "      <td>288</td>\n",
       "      <td>126</td>\n",
       "      <td>235</td>\n",
       "      <td>306</td>\n",
       "      <td>...</td>\n",
       "      <td>275</td>\n",
       "      <td>335</td>\n",
       "      <td>114</td>\n",
       "      <td>84</td>\n",
       "      <td>36</td>\n",
       "      <td>9</td>\n",
       "      <td>165</td>\n",
       "      <td>250</td>\n",
       "      <td>166</td>\n",
       "      <td>7</td>\n",
       "    </tr>\n",
       "    <tr>\n",
       "      <th>2</th>\n",
       "      <td>130</td>\n",
       "      <td>310</td>\n",
       "      <td>248</td>\n",
       "      <td>120</td>\n",
       "      <td>359</td>\n",
       "      <td>202</td>\n",
       "      <td>197</td>\n",
       "      <td>334</td>\n",
       "      <td>137</td>\n",
       "      <td>313</td>\n",
       "      <td>...</td>\n",
       "      <td>91</td>\n",
       "      <td>235</td>\n",
       "      <td>133</td>\n",
       "      <td>25</td>\n",
       "      <td>236</td>\n",
       "      <td>41</td>\n",
       "      <td>342</td>\n",
       "      <td>216</td>\n",
       "      <td>350</td>\n",
       "      <td>146</td>\n",
       "    </tr>\n",
       "    <tr>\n",
       "      <th>3</th>\n",
       "      <td>71</td>\n",
       "      <td>79</td>\n",
       "      <td>38</td>\n",
       "      <td>147</td>\n",
       "      <td>241</td>\n",
       "      <td>168</td>\n",
       "      <td>261</td>\n",
       "      <td>340</td>\n",
       "      <td>200</td>\n",
       "      <td>118</td>\n",
       "      <td>...</td>\n",
       "      <td>43</td>\n",
       "      <td>42</td>\n",
       "      <td>364</td>\n",
       "      <td>11</td>\n",
       "      <td>43</td>\n",
       "      <td>35</td>\n",
       "      <td>151</td>\n",
       "      <td>56</td>\n",
       "      <td>318</td>\n",
       "      <td>141</td>\n",
       "    </tr>\n",
       "    <tr>\n",
       "      <th>4</th>\n",
       "      <td>18</td>\n",
       "      <td>40</td>\n",
       "      <td>348</td>\n",
       "      <td>144</td>\n",
       "      <td>172</td>\n",
       "      <td>230</td>\n",
       "      <td>288</td>\n",
       "      <td>8</td>\n",
       "      <td>10</td>\n",
       "      <td>86</td>\n",
       "      <td>...</td>\n",
       "      <td>23</td>\n",
       "      <td>199</td>\n",
       "      <td>352</td>\n",
       "      <td>315</td>\n",
       "      <td>167</td>\n",
       "      <td>105</td>\n",
       "      <td>211</td>\n",
       "      <td>266</td>\n",
       "      <td>9</td>\n",
       "      <td>196</td>\n",
       "    </tr>\n",
       "  </tbody>\n",
       "</table>\n",
       "<p>5 rows × 23 columns</p>\n",
       "</div>"
      ],
      "text/plain": [
       "    0    1    2    3    4    5    6    7    8    9   ...   13   14   15   16  \\\n",
       "0  353  256  283    4  300  159  240   74  194  156  ...  352   87  325  176   \n",
       "1  102  269    8  187  302  239  288  126  235  306  ...  275  335  114   84   \n",
       "2  130  310  248  120  359  202  197  334  137  313  ...   91  235  133   25   \n",
       "3   71   79   38  147  241  168  261  340  200  118  ...   43   42  364   11   \n",
       "4   18   40  348  144  172  230  288    8   10   86  ...   23  199  352  315   \n",
       "\n",
       "    17   18   19   20   21   22  \n",
       "0   50  119  248  167  298   80  \n",
       "1   36    9  165  250  166    7  \n",
       "2  236   41  342  216  350  146  \n",
       "3   43   35  151   56  318  141  \n",
       "4  167  105  211  266    9  196  \n",
       "\n",
       "[5 rows x 23 columns]"
      ]
     },
     "execution_count": 88,
     "metadata": {},
     "output_type": "execute_result"
    }
   ],
   "source": [
    "#build the df\n",
    "df = pd.DataFrame(bdays)\n",
    "df.head()"
   ]
  },
  {
   "cell_type": "code",
   "execution_count": 95,
   "id": "184e0e96",
   "metadata": {},
   "outputs": [
    {
     "data": {
      "text/html": [
       "<div>\n",
       "<style scoped>\n",
       "    .dataframe tbody tr th:only-of-type {\n",
       "        vertical-align: middle;\n",
       "    }\n",
       "\n",
       "    .dataframe tbody tr th {\n",
       "        vertical-align: top;\n",
       "    }\n",
       "\n",
       "    .dataframe thead th {\n",
       "        text-align: right;\n",
       "    }\n",
       "</style>\n",
       "<table border=\"1\" class=\"dataframe\">\n",
       "  <thead>\n",
       "    <tr style=\"text-align: right;\">\n",
       "      <th></th>\n",
       "      <th>0</th>\n",
       "      <th>1</th>\n",
       "      <th>2</th>\n",
       "      <th>3</th>\n",
       "      <th>4</th>\n",
       "      <th>5</th>\n",
       "      <th>6</th>\n",
       "      <th>7</th>\n",
       "      <th>8</th>\n",
       "      <th>9</th>\n",
       "      <th>...</th>\n",
       "      <th>14</th>\n",
       "      <th>15</th>\n",
       "      <th>16</th>\n",
       "      <th>17</th>\n",
       "      <th>18</th>\n",
       "      <th>19</th>\n",
       "      <th>20</th>\n",
       "      <th>21</th>\n",
       "      <th>22</th>\n",
       "      <th>same_bday</th>\n",
       "    </tr>\n",
       "  </thead>\n",
       "  <tbody>\n",
       "    <tr>\n",
       "      <th>0</th>\n",
       "      <td>353</td>\n",
       "      <td>256</td>\n",
       "      <td>283</td>\n",
       "      <td>4</td>\n",
       "      <td>300</td>\n",
       "      <td>159</td>\n",
       "      <td>240</td>\n",
       "      <td>74</td>\n",
       "      <td>194</td>\n",
       "      <td>156</td>\n",
       "      <td>...</td>\n",
       "      <td>87</td>\n",
       "      <td>325</td>\n",
       "      <td>176</td>\n",
       "      <td>50</td>\n",
       "      <td>119</td>\n",
       "      <td>248</td>\n",
       "      <td>167</td>\n",
       "      <td>298</td>\n",
       "      <td>80</td>\n",
       "      <td>False</td>\n",
       "    </tr>\n",
       "    <tr>\n",
       "      <th>1</th>\n",
       "      <td>102</td>\n",
       "      <td>269</td>\n",
       "      <td>8</td>\n",
       "      <td>187</td>\n",
       "      <td>302</td>\n",
       "      <td>239</td>\n",
       "      <td>288</td>\n",
       "      <td>126</td>\n",
       "      <td>235</td>\n",
       "      <td>306</td>\n",
       "      <td>...</td>\n",
       "      <td>335</td>\n",
       "      <td>114</td>\n",
       "      <td>84</td>\n",
       "      <td>36</td>\n",
       "      <td>9</td>\n",
       "      <td>165</td>\n",
       "      <td>250</td>\n",
       "      <td>166</td>\n",
       "      <td>7</td>\n",
       "      <td>False</td>\n",
       "    </tr>\n",
       "    <tr>\n",
       "      <th>2</th>\n",
       "      <td>130</td>\n",
       "      <td>310</td>\n",
       "      <td>248</td>\n",
       "      <td>120</td>\n",
       "      <td>359</td>\n",
       "      <td>202</td>\n",
       "      <td>197</td>\n",
       "      <td>334</td>\n",
       "      <td>137</td>\n",
       "      <td>313</td>\n",
       "      <td>...</td>\n",
       "      <td>235</td>\n",
       "      <td>133</td>\n",
       "      <td>25</td>\n",
       "      <td>236</td>\n",
       "      <td>41</td>\n",
       "      <td>342</td>\n",
       "      <td>216</td>\n",
       "      <td>350</td>\n",
       "      <td>146</td>\n",
       "      <td>False</td>\n",
       "    </tr>\n",
       "    <tr>\n",
       "      <th>3</th>\n",
       "      <td>71</td>\n",
       "      <td>79</td>\n",
       "      <td>38</td>\n",
       "      <td>147</td>\n",
       "      <td>241</td>\n",
       "      <td>168</td>\n",
       "      <td>261</td>\n",
       "      <td>340</td>\n",
       "      <td>200</td>\n",
       "      <td>118</td>\n",
       "      <td>...</td>\n",
       "      <td>42</td>\n",
       "      <td>364</td>\n",
       "      <td>11</td>\n",
       "      <td>43</td>\n",
       "      <td>35</td>\n",
       "      <td>151</td>\n",
       "      <td>56</td>\n",
       "      <td>318</td>\n",
       "      <td>141</td>\n",
       "      <td>False</td>\n",
       "    </tr>\n",
       "    <tr>\n",
       "      <th>4</th>\n",
       "      <td>18</td>\n",
       "      <td>40</td>\n",
       "      <td>348</td>\n",
       "      <td>144</td>\n",
       "      <td>172</td>\n",
       "      <td>230</td>\n",
       "      <td>288</td>\n",
       "      <td>8</td>\n",
       "      <td>10</td>\n",
       "      <td>86</td>\n",
       "      <td>...</td>\n",
       "      <td>199</td>\n",
       "      <td>352</td>\n",
       "      <td>315</td>\n",
       "      <td>167</td>\n",
       "      <td>105</td>\n",
       "      <td>211</td>\n",
       "      <td>266</td>\n",
       "      <td>9</td>\n",
       "      <td>196</td>\n",
       "      <td>False</td>\n",
       "    </tr>\n",
       "  </tbody>\n",
       "</table>\n",
       "<p>5 rows × 24 columns</p>\n",
       "</div>"
      ],
      "text/plain": [
       "     0    1    2    3    4    5    6    7    8    9  ...   14   15   16   17  \\\n",
       "0  353  256  283    4  300  159  240   74  194  156  ...   87  325  176   50   \n",
       "1  102  269    8  187  302  239  288  126  235  306  ...  335  114   84   36   \n",
       "2  130  310  248  120  359  202  197  334  137  313  ...  235  133   25  236   \n",
       "3   71   79   38  147  241  168  261  340  200  118  ...   42  364   11   43   \n",
       "4   18   40  348  144  172  230  288    8   10   86  ...  199  352  315  167   \n",
       "\n",
       "    18   19   20   21   22  same_bday  \n",
       "0  119  248  167  298   80      False  \n",
       "1    9  165  250  166    7      False  \n",
       "2   41  342  216  350  146      False  \n",
       "3   35  151   56  318  141      False  \n",
       "4  105  211  266    9  196      False  \n",
       "\n",
       "[5 rows x 24 columns]"
      ]
     },
     "execution_count": 95,
     "metadata": {},
     "output_type": "execute_result"
    }
   ],
   "source": [
    "df['same_bday']=df.nunique(axis=1) == ncols-1#\"nunique\" finds the same two numbers column by column equal to \"ncols-1\"\n",
    "df.head()"
   ]
  },
  {
   "cell_type": "code",
   "execution_count": 97,
   "id": "cae0a32a",
   "metadata": {},
   "outputs": [
    {
     "data": {
      "text/plain": [
       "0.11794"
      ]
     },
     "execution_count": 97,
     "metadata": {},
     "output_type": "execute_result"
    }
   ],
   "source": [
    "df.same_bday.mean()"
   ]
  },
  {
   "cell_type": "markdown",
   "id": "b75dcd9c",
   "metadata": {},
   "source": [
    "### 20 people"
   ]
  },
  {
   "cell_type": "code",
   "execution_count": 98,
   "id": "b3c1a3d8",
   "metadata": {},
   "outputs": [
    {
     "data": {
      "text/plain": [
       "0.32365"
      ]
     },
     "execution_count": 98,
     "metadata": {},
     "output_type": "execute_result"
    }
   ],
   "source": [
    "nrows = 100_000\n",
    "ncols = 20#number of people in the room\n",
    "days = [r for r in range(366)]\n",
    "\n",
    "bdays=np.random.choice(days, nrows*ncols).reshape(nrows,ncols)\n",
    "bdays\n",
    "\n",
    "df = pd.DataFrame(bdays)\n",
    "df.head()\n",
    "df['same_bday']=df.nunique(axis=1) == ncols-1#\"nunique\" finds the same two numbers column by column equal to \"ncols-1\"\n",
    "df.head()\n",
    "df.same_bday.mean()"
   ]
  },
  {
   "cell_type": "markdown",
   "id": "72023f51",
   "metadata": {},
   "source": [
    "### 40 people"
   ]
  },
  {
   "cell_type": "code",
   "execution_count": 99,
   "id": "df444c61",
   "metadata": {},
   "outputs": [
    {
     "data": {
      "text/plain": [
       "0.32213"
      ]
     },
     "execution_count": 99,
     "metadata": {},
     "output_type": "execute_result"
    }
   ],
   "source": [
    "nrows = 100_000\n",
    "ncols = 20#number of people in the room\n",
    "days = [r for r in range(366)]\n",
    "\n",
    "bdays=np.random.choice(days, nrows*ncols).reshape(nrows,ncols)\n",
    "bdays\n",
    "\n",
    "df = pd.DataFrame(bdays)\n",
    "df.head()\n",
    "df['same_bday']=df.nunique(axis=1) == ncols-1#\"nunique\" finds the same two numbers column by column equal to \"ncols-1\"\n",
    "df.head()\n",
    "df.same_bday.mean()"
   ]
  },
  {
   "cell_type": "code",
   "execution_count": null,
   "id": "ec8e5aa3",
   "metadata": {},
   "outputs": [],
   "source": []
  }
 ],
 "metadata": {
  "kernelspec": {
   "display_name": "Python 3",
   "language": "python",
   "name": "python3"
  },
  "language_info": {
   "codemirror_mode": {
    "name": "ipython",
    "version": 3
   },
   "file_extension": ".py",
   "mimetype": "text/x-python",
   "name": "python",
   "nbconvert_exporter": "python",
   "pygments_lexer": "ipython3",
   "version": "3.8.8"
  }
 },
 "nbformat": 4,
 "nbformat_minor": 5
}
