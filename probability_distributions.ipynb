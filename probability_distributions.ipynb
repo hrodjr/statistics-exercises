{
 "cells": [
  {
   "cell_type": "code",
   "execution_count": 25,
   "id": "f3499897",
   "metadata": {},
   "outputs": [],
   "source": [
    "import matplotlib.pyplot as plt\n",
    "import pandas as pd\n",
    "import numpy as np\n",
    "from scipy import stats\n",
    "\n",
    "\n",
    "np.random.seed(123)"
   ]
  },
  {
   "cell_type": "markdown",
   "id": "a1458555",
   "metadata": {},
   "source": [
    "## 1. A bank found that the average number of cars waiting during the noon hour at a drive-up window follows a Poisson distribution with a mean of 2 cars. Make a chart of this distribution and answer these questions concerning the probability of cars waiting at the drive-up window.\n",
    "\n",
    "    What is the probability that no cars drive up in the noon hour?\n",
    "    What is the probability that 3 or more cars come through the drive through?\n",
    "    How likely is it that the drive through gets at least 1 car?"
   ]
  },
  {
   "cell_type": "code",
   "execution_count": 3,
   "id": "61cdab33",
   "metadata": {},
   "outputs": [
    {
     "data": {
      "text/plain": [
       "0.18393972058572114"
      ]
     },
     "execution_count": 3,
     "metadata": {},
     "output_type": "execute_result"
    }
   ],
   "source": [
    "#certain number of events == 2 cars\n",
    "#happen over a specific time interval (discrete measure)== 60 mins\n",
    "#Will tell us \"the likelihood of a certain number of events occuring over the time period\"\n",
    "\n",
    "stats.poisson(1).pmf(2)#use \"pmf\" because the count is cars. cann't have 1.5 cars."
   ]
  },
  {
   "cell_type": "code",
   "execution_count": 4,
   "id": "ba4cc236",
   "metadata": {},
   "outputs": [
    {
     "data": {
      "text/plain": [
       "0.36787944117144233"
      ]
     },
     "execution_count": 4,
     "metadata": {},
     "output_type": "execute_result"
    }
   ],
   "source": [
    "# What is the probability that no cars drive up in the noon hour?\n",
    "stats.poisson(1).pmf(0)"
   ]
  },
  {
   "cell_type": "code",
   "execution_count": 5,
   "id": "6d1b8577",
   "metadata": {},
   "outputs": [
    {
     "data": {
      "text/plain": [
       "0.01898815687615381"
      ]
     },
     "execution_count": 5,
     "metadata": {},
     "output_type": "execute_result"
    }
   ],
   "source": [
    "#What is the probability that 3 or more cars come through the drive through?\n",
    "stats.poisson(1).sf(3)"
   ]
  },
  {
   "cell_type": "code",
   "execution_count": 6,
   "id": "48da9d7b",
   "metadata": {},
   "outputs": [
    {
     "data": {
      "text/plain": [
       "0.2642411176571153"
      ]
     },
     "execution_count": 6,
     "metadata": {},
     "output_type": "execute_result"
    }
   ],
   "source": [
    "#How likely is it that the drive through gets at least 1 car?\n",
    "stats.poisson(1).sf(1)"
   ]
  },
  {
   "cell_type": "markdown",
   "id": "6a9d6dc1",
   "metadata": {},
   "source": [
    "## 2. Grades of State University graduates are normally distributed with a mean of 3.0 and a standard deviation of .3. Calculate the following:\n",
    "\n",
    "    An eccentric alumnus left scholarship money for students in the third decile from the bottom of their class. Determine the range of the third decile. Would a student with a 2.8 grade point average qualify for this scholarship?\n",
    "    If I have a GPA of 3.5, what percentile am I in?"
   ]
  },
  {
   "cell_type": "code",
   "execution_count": 7,
   "id": "f68806c1",
   "metadata": {},
   "outputs": [],
   "source": [
    "#standard normal deviation - defined by \"a mean and a standard deviation\"\n",
    "#mean == 3.0\n",
    "#std == .3\n",
    "\n",
    "mn = 3\n",
    "sd = .3"
   ]
  },
  {
   "cell_type": "code",
   "execution_count": 8,
   "id": "8c0ff062",
   "metadata": {},
   "outputs": [
    {
     "data": {
      "text/plain": [
       "2.5065439119145583"
      ]
     },
     "execution_count": 8,
     "metadata": {},
     "output_type": "execute_result"
    }
   ],
   "source": [
    "#What grade point average is required to be in the top 5% of the graduating class?\n",
    "gpa = stats.norm(mn, sd)\n",
    "required_gpa = gpa.ppf(.05)#\"results above\" 5%\n",
    "required_gpa"
   ]
  },
  {
   "cell_type": "code",
   "execution_count": 9,
   "id": "5146c0ff",
   "metadata": {},
   "outputs": [
    {
     "data": {
      "text/plain": [
       "1.0494515075362604e-21"
      ]
     },
     "execution_count": 9,
     "metadata": {},
     "output_type": "execute_result"
    }
   ],
   "source": [
    "#What GPA constitutes the bottom 15% of the class?\n",
    "gpa = stats.norm(mn, sd)\n",
    "required_gpa = gpa.cdf(.15)#\"cdf\" \"results below\" 15%\n",
    "required_gpa"
   ]
  },
  {
   "cell_type": "code",
   "execution_count": 10,
   "id": "1c4a929a",
   "metadata": {},
   "outputs": [
    {
     "data": {
      "text/plain": [
       "0.2524925375469227"
      ]
     },
     "execution_count": 10,
     "metadata": {},
     "output_type": "execute_result"
    }
   ],
   "source": [
    "#An eccentric alumnus left scholarship money for students in the third decile from the bottom of their class. Determine the range of the third decile. Would a student with a 2.8 grade point average qualify for this scholarship?\n",
    "s=gpa.cdf(2.8)#????\n",
    "s"
   ]
  },
  {
   "cell_type": "code",
   "execution_count": 11,
   "id": "c5937c72",
   "metadata": {},
   "outputs": [
    {
     "data": {
      "text/plain": [
       "0.3315904626424956"
      ]
     },
     "execution_count": 11,
     "metadata": {},
     "output_type": "execute_result"
    }
   ],
   "source": [
    "#If I have a GPA of 3.5, what percentile am I in?\n",
    "p=gpa.pdf(3.5)#????\n",
    "p"
   ]
  },
  {
   "cell_type": "markdown",
   "id": "5ca0bac4",
   "metadata": {},
   "source": [
    "## 3. A marketing website has an average click-through rate of 2%. One day they observe 4326 visitors and 97 click-throughs. How likely is it that this many people or more click through?"
   ]
  },
  {
   "cell_type": "code",
   "execution_count": 12,
   "id": "c58e464c",
   "metadata": {},
   "outputs": [
    {
     "data": {
      "text/plain": [
       "0.9999999999999999"
      ]
     },
     "execution_count": 12,
     "metadata": {},
     "output_type": "execute_result"
    }
   ],
   "source": [
    "#binomial distribution\n",
    "#trials == 4326\n",
    "#success == 97\n",
    "#over 1 day\n",
    "\n",
    "stats.binom(4326, .02).sf(1)"
   ]
  },
  {
   "cell_type": "markdown",
   "id": "4dcd1214",
   "metadata": {},
   "source": [
    "## 4. You are working on some statistics homework consisting of 100 questions where all of the answers are a probability rounded to the hundreths place. Looking to save time, you put down random probabilities as the answer to each question.\n",
    "\n",
    "    What is the probability that at least one of your first 60 answers is correct?"
   ]
  },
  {
   "cell_type": "code",
   "execution_count": 13,
   "id": "2a6ae757",
   "metadata": {},
   "outputs": [
    {
     "data": {
      "text/plain": [
       "6.129908671335186e-95"
      ]
     },
     "execution_count": 13,
     "metadata": {},
     "output_type": "execute_result"
    }
   ],
   "source": [
    "stats.binom(100,.01).sf(60)"
   ]
  },
  {
   "cell_type": "markdown",
   "id": "f9915b1e",
   "metadata": {},
   "source": [
    "## 5. The codeup staff tends to get upset when the student break area is not cleaned up. Suppose that there's a 3% chance that any one student cleans the break area when they visit it, and, on any given day, about 90% of the 3 active cohorts of 22 students visit the break area. How likely is it that the break area gets cleaned up each day? How likely is it that it goes two days without getting cleaned up? All week?"
   ]
  },
  {
   "cell_type": "code",
   "execution_count": 14,
   "id": "9d242fc5",
   "metadata": {},
   "outputs": [
    {
     "data": {
      "text/plain": [
       "0.9999999999999999"
      ]
     },
     "execution_count": 14,
     "metadata": {},
     "output_type": "execute_result"
    }
   ],
   "source": [
    "#How likely is it that the break area gets cleaned up each day?\n",
    "stats.binom(22,.9).sf(1)"
   ]
  },
  {
   "cell_type": "code",
   "execution_count": 15,
   "id": "f7fdfad9",
   "metadata": {},
   "outputs": [
    {
     "data": {
      "text/plain": [
       "0.9999999999999999"
      ]
     },
     "execution_count": 15,
     "metadata": {},
     "output_type": "execute_result"
    }
   ],
   "source": [
    "#How likely is it that it goes two days without getting cleaned up?\n",
    "stats.binom(22,.9).sf(2)"
   ]
  },
  {
   "cell_type": "code",
   "execution_count": 16,
   "id": "d03a741d",
   "metadata": {},
   "outputs": [
    {
     "data": {
      "text/plain": [
       "0.9999999999998396"
      ]
     },
     "execution_count": 16,
     "metadata": {},
     "output_type": "execute_result"
    }
   ],
   "source": [
    "#all week\n",
    "stats.binom(22,.9).sf(5)"
   ]
  },
  {
   "cell_type": "markdown",
   "id": "1f6d8547",
   "metadata": {},
   "source": [
    "## 6. You want to get lunch at La Panaderia, but notice that the line is usually very long at lunchtime. After several weeks of careful observation, you notice that the average number of people in line when your lunch break starts is normally distributed with a mean of 15 and standard deviation of 3. If it takes 2 minutes for each person to order, and 10 minutes from ordering to getting your food, what is the likelihood that you have at least 15 minutes left to eat your food before you have to go back to class? Assume you have one hour for lunch, and ignore travel time to and from La Panaderia."
   ]
  },
  {
   "cell_type": "code",
   "execution_count": 21,
   "id": "00d5a5a4",
   "metadata": {},
   "outputs": [
    {
     "data": {
      "text/plain": [
       "2.4820152902099967e-06"
      ]
     },
     "execution_count": 21,
     "metadata": {},
     "output_type": "execute_result"
    }
   ],
   "source": [
    "#mean == 15\n",
    "#sd == 3\n",
    "\n",
    "m = 15\n",
    "s = 3\n",
    "\n",
    "lunch = stats.norm(m, s)\n",
    "toeat = lunch.pdf(1)\n",
    "toeat"
   ]
  },
  {
   "cell_type": "markdown",
   "id": "8327800e",
   "metadata": {},
   "source": [
    "## 7. Connect to the employees database and find the average salary of current employees, along with the standard deviation. For the following questions, calculate the answer based on modeling the employees salaries with a normal distribution defined by the calculated mean and standard deviation then compare this answer to the actual values present in the salaries dataset.\n",
    "\n",
    "    What percent of employees earn less than 60,000?\n",
    "    What percent of employees earn more than 95,000?\n",
    "    What percent of employees earn between 65,000 and 80,000?\n",
    "    What do the top 5% of employees make?"
   ]
  },
  {
   "cell_type": "code",
   "execution_count": 23,
   "id": "dc1b2cd9",
   "metadata": {},
   "outputs": [],
   "source": [
    "from env import host, user, password\n",
    "\n",
    "url = f'mysql+pymysql://{user}:{password}@{host}/employees'"
   ]
  },
  {
   "cell_type": "code",
   "execution_count": 26,
   "id": "833f38b1",
   "metadata": {},
   "outputs": [
    {
     "data": {
      "text/html": [
       "<div>\n",
       "<style scoped>\n",
       "    .dataframe tbody tr th:only-of-type {\n",
       "        vertical-align: middle;\n",
       "    }\n",
       "\n",
       "    .dataframe tbody tr th {\n",
       "        vertical-align: top;\n",
       "    }\n",
       "\n",
       "    .dataframe thead th {\n",
       "        text-align: right;\n",
       "    }\n",
       "</style>\n",
       "<table border=\"1\" class=\"dataframe\">\n",
       "  <thead>\n",
       "    <tr style=\"text-align: right;\">\n",
       "      <th></th>\n",
       "      <th>Full_Name</th>\n",
       "      <th>Salary</th>\n",
       "    </tr>\n",
       "  </thead>\n",
       "  <tbody>\n",
       "    <tr>\n",
       "      <th>0</th>\n",
       "      <td>Georgi Facello</td>\n",
       "      <td>88958</td>\n",
       "    </tr>\n",
       "    <tr>\n",
       "      <th>1</th>\n",
       "      <td>Bezalel Simmel</td>\n",
       "      <td>72527</td>\n",
       "    </tr>\n",
       "    <tr>\n",
       "      <th>2</th>\n",
       "      <td>Parto Bamford</td>\n",
       "      <td>43311</td>\n",
       "    </tr>\n",
       "    <tr>\n",
       "      <th>3</th>\n",
       "      <td>Chirstian Koblick</td>\n",
       "      <td>74057</td>\n",
       "    </tr>\n",
       "    <tr>\n",
       "      <th>4</th>\n",
       "      <td>Kyoichi Maliniak</td>\n",
       "      <td>94692</td>\n",
       "    </tr>\n",
       "  </tbody>\n",
       "</table>\n",
       "</div>"
      ],
      "text/plain": [
       "           Full_Name  Salary\n",
       "0     Georgi Facello   88958\n",
       "1     Bezalel Simmel   72527\n",
       "2      Parto Bamford   43311\n",
       "3  Chirstian Koblick   74057\n",
       "4   Kyoichi Maliniak   94692"
      ]
     },
     "execution_count": 26,
     "metadata": {},
     "output_type": "execute_result"
    }
   ],
   "source": [
    "employees = pd.read_sql('SELECT CONCAT(first_name, \" \", last_name) AS Full_Name, salaries.salary AS Salary FROM employees JOIN salaries USING(emp_no) WHERE salaries.to_date > CURDATE();', url)\n",
    "employees.head()"
   ]
  },
  {
   "cell_type": "code",
   "execution_count": 27,
   "id": "4d8e961f",
   "metadata": {},
   "outputs": [
    {
     "name": "stdout",
     "output_type": "stream",
     "text": [
      "<class 'pandas.core.frame.DataFrame'>\n",
      "RangeIndex: 240124 entries, 0 to 240123\n",
      "Data columns (total 2 columns):\n",
      " #   Column     Non-Null Count   Dtype \n",
      "---  ------     --------------   ----- \n",
      " 0   Full_Name  240124 non-null  object\n",
      " 1   Salary     240124 non-null  int64 \n",
      "dtypes: int64(1), object(1)\n",
      "memory usage: 3.7+ MB\n"
     ]
    }
   ],
   "source": [
    "employees.info()"
   ]
  },
  {
   "cell_type": "code",
   "execution_count": 30,
   "id": "5c19ccd3",
   "metadata": {},
   "outputs": [
    {
     "data": {
      "text/html": [
       "<div>\n",
       "<style scoped>\n",
       "    .dataframe tbody tr th:only-of-type {\n",
       "        vertical-align: middle;\n",
       "    }\n",
       "\n",
       "    .dataframe tbody tr th {\n",
       "        vertical-align: top;\n",
       "    }\n",
       "\n",
       "    .dataframe thead th {\n",
       "        text-align: right;\n",
       "    }\n",
       "</style>\n",
       "<table border=\"1\" class=\"dataframe\">\n",
       "  <thead>\n",
       "    <tr style=\"text-align: right;\">\n",
       "      <th></th>\n",
       "      <th>Salary</th>\n",
       "    </tr>\n",
       "  </thead>\n",
       "  <tbody>\n",
       "    <tr>\n",
       "      <th>count</th>\n",
       "      <td>240124.000000</td>\n",
       "    </tr>\n",
       "    <tr>\n",
       "      <th>mean</th>\n",
       "      <td>72012.235857</td>\n",
       "    </tr>\n",
       "    <tr>\n",
       "      <th>std</th>\n",
       "      <td>17309.995380</td>\n",
       "    </tr>\n",
       "    <tr>\n",
       "      <th>min</th>\n",
       "      <td>38623.000000</td>\n",
       "    </tr>\n",
       "    <tr>\n",
       "      <th>25%</th>\n",
       "      <td>59048.750000</td>\n",
       "    </tr>\n",
       "    <tr>\n",
       "      <th>50%</th>\n",
       "      <td>69805.000000</td>\n",
       "    </tr>\n",
       "    <tr>\n",
       "      <th>75%</th>\n",
       "      <td>82546.000000</td>\n",
       "    </tr>\n",
       "    <tr>\n",
       "      <th>max</th>\n",
       "      <td>158220.000000</td>\n",
       "    </tr>\n",
       "  </tbody>\n",
       "</table>\n",
       "</div>"
      ],
      "text/plain": [
       "              Salary\n",
       "count  240124.000000\n",
       "mean    72012.235857\n",
       "std     17309.995380\n",
       "min     38623.000000\n",
       "25%     59048.750000\n",
       "50%     69805.000000\n",
       "75%     82546.000000\n",
       "max    158220.000000"
      ]
     },
     "execution_count": 30,
     "metadata": {},
     "output_type": "execute_result"
    }
   ],
   "source": [
    "employees.describe()"
   ]
  },
  {
   "cell_type": "markdown",
   "id": "62d0d05c",
   "metadata": {},
   "source": [
    "### What percent of employees earn less than 60,000?"
   ]
  },
  {
   "cell_type": "code",
   "execution_count": 33,
   "id": "328a2317",
   "metadata": {},
   "outputs": [
    {
     "data": {
      "text/plain": [
       "0.2438617554963023"
      ]
     },
     "execution_count": 33,
     "metadata": {},
     "output_type": "execute_result"
    }
   ],
   "source": [
    "m = 72_012\n",
    "s = 17_310\n",
    "\n",
    "salary = stats.norm(72_012, 17_310)\n",
    "less=salary.cdf(60_000)\n",
    "less"
   ]
  },
  {
   "cell_type": "markdown",
   "id": "20384e3c",
   "metadata": {},
   "source": [
    "### What percent of employees earn more than 95,000?"
   ]
  },
  {
   "cell_type": "code",
   "execution_count": 36,
   "id": "3ccffe77",
   "metadata": {},
   "outputs": [
    {
     "data": {
      "text/plain": [
       "0.9079140000589391"
      ]
     },
     "execution_count": 36,
     "metadata": {},
     "output_type": "execute_result"
    }
   ],
   "source": [
    "m = 72_012\n",
    "s = 17_310\n",
    "\n",
    "salary = stats.norm(72_012, 17_310)\n",
    "less=salary.cdf(95_000)\n",
    "less"
   ]
  },
  {
   "cell_type": "markdown",
   "id": "13ae4b74",
   "metadata": {},
   "source": [
    "### What percent of employees earn between 65,000 and 80,000?"
   ]
  },
  {
   "cell_type": "code",
   "execution_count": 43,
   "id": "e527e803",
   "metadata": {},
   "outputs": [
    {
     "data": {
      "text/plain": [
       "0.9995054122972461"
      ]
     },
     "execution_count": 43,
     "metadata": {},
     "output_type": "execute_result"
    }
   ],
   "source": [
    "m = 72_012\n",
    "s = 17_310\n",
    "\n",
    "salary = stats.norm(72_012, 17_310)\n",
    "less=salary.sf(15_000)\n",
    "less"
   ]
  },
  {
   "cell_type": "markdown",
   "id": "c602cb2e",
   "metadata": {},
   "source": [
    "### What do the top 5% of employees make?"
   ]
  },
  {
   "cell_type": "code",
   "execution_count": 53,
   "id": "3bf4131a",
   "metadata": {},
   "outputs": [
    {
     "data": {
      "text/plain": [
       "100484.41628253"
      ]
     },
     "execution_count": 53,
     "metadata": {},
     "output_type": "execute_result"
    }
   ],
   "source": [
    "m = 72_012\n",
    "s = 17_310\n",
    "\n",
    "salary = stats.norm(72_012, 17_310)\n",
    "less=salary.isf(.05)\n",
    "less"
   ]
  },
  {
   "cell_type": "code",
   "execution_count": null,
   "id": "803dd294",
   "metadata": {},
   "outputs": [],
   "source": []
  }
 ],
 "metadata": {
  "kernelspec": {
   "display_name": "Python 3",
   "language": "python",
   "name": "python3"
  },
  "language_info": {
   "codemirror_mode": {
    "name": "ipython",
    "version": 3
   },
   "file_extension": ".py",
   "mimetype": "text/x-python",
   "name": "python",
   "nbconvert_exporter": "python",
   "pygments_lexer": "ipython3",
   "version": "3.8.8"
  }
 },
 "nbformat": 4,
 "nbformat_minor": 5
}
