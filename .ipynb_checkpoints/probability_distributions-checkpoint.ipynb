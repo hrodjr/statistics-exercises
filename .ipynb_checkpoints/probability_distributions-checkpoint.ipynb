{
 "cells": [
  {
   "cell_type": "code",
   "execution_count": 2,
   "id": "f3499897",
   "metadata": {},
   "outputs": [],
   "source": [
    "import matplotlib.pyplot as plt\n",
    "import numpy as np\n",
    "from scipy import stats\n",
    "\n",
    "\n",
    "np.random.seed(123)"
   ]
  },
  {
   "cell_type": "markdown",
   "id": "a1458555",
   "metadata": {},
   "source": [
    "## 1. A bank found that the average number of cars waiting during the noon hour at a drive-up window follows a Poisson distribution with a mean of 2 cars. Make a chart of this distribution and answer these questions concerning the probability of cars waiting at the drive-up window.\n",
    "\n",
    "    What is the probability that no cars drive up in the noon hour?\n",
    "    What is the probability that 3 or more cars come through the drive through?\n",
    "    How likely is it that the drive through gets at least 1 car?"
   ]
  },
  {
   "cell_type": "code",
   "execution_count": 3,
   "id": "61cdab33",
   "metadata": {},
   "outputs": [
    {
     "data": {
      "text/plain": [
       "0.18393972058572114"
      ]
     },
     "execution_count": 3,
     "metadata": {},
     "output_type": "execute_result"
    }
   ],
   "source": [
    "#certain number of events == 2 cars\n",
    "#happen over a specific time interval (discrete measure)== 60 mins\n",
    "#Will tell us \"the likelihood of a certain number of events occuring over the time period\"\n",
    "\n",
    "stats.poisson(1).pmf(2)#use \"pmf\" because the count is cars. cann't have 1.5 cars."
   ]
  },
  {
   "cell_type": "code",
   "execution_count": 4,
   "id": "ba4cc236",
   "metadata": {},
   "outputs": [
    {
     "data": {
      "text/plain": [
       "0.36787944117144233"
      ]
     },
     "execution_count": 4,
     "metadata": {},
     "output_type": "execute_result"
    }
   ],
   "source": [
    "# What is the probability that no cars drive up in the noon hour?\n",
    "stats.poisson(1).pmf(0)"
   ]
  },
  {
   "cell_type": "code",
   "execution_count": 5,
   "id": "6d1b8577",
   "metadata": {},
   "outputs": [
    {
     "data": {
      "text/plain": [
       "0.01898815687615381"
      ]
     },
     "execution_count": 5,
     "metadata": {},
     "output_type": "execute_result"
    }
   ],
   "source": [
    "#What is the probability that 3 or more cars come through the drive through?\n",
    "stats.poisson(1).sf(3)"
   ]
  },
  {
   "cell_type": "code",
   "execution_count": 6,
   "id": "48da9d7b",
   "metadata": {},
   "outputs": [
    {
     "data": {
      "text/plain": [
       "0.2642411176571153"
      ]
     },
     "execution_count": 6,
     "metadata": {},
     "output_type": "execute_result"
    }
   ],
   "source": [
    "#How likely is it that the drive through gets at least 1 car?\n",
    "stats.poisson(1).sf(1)"
   ]
  },
  {
   "cell_type": "markdown",
   "id": "6a9d6dc1",
   "metadata": {},
   "source": [
    "## 2. Grades of State University graduates are normally distributed with a mean of 3.0 and a standard deviation of .3. Calculate the following:\n",
    "\n",
    "    An eccentric alumnus left scholarship money for students in the third decile from the bottom of their class. Determine the range of the third decile. Would a student with a 2.8 grade point average qualify for this scholarship?\n",
    "    If I have a GPA of 3.5, what percentile am I in?"
   ]
  },
  {
   "cell_type": "code",
   "execution_count": null,
   "id": "f68806c1",
   "metadata": {},
   "outputs": [],
   "source": [
    "#standard normal deviation - defined by \"a mean and a standard deviation\"\n",
    "#mean == 3.0\n",
    "#std == .3\n",
    "\n",
    "mn = 3\n",
    "sd = .3"
   ]
  },
  {
   "cell_type": "code",
   "execution_count": 11,
   "id": "8c0ff062",
   "metadata": {},
   "outputs": [
    {
     "data": {
      "text/plain": [
       "2.5065439119145583"
      ]
     },
     "execution_count": 11,
     "metadata": {},
     "output_type": "execute_result"
    }
   ],
   "source": [
    "#What grade point average is required to be in the top 5% of the graduating class?\n",
    "gpa = stats.norm(mn, sd)\n",
    "required_gpa = gpa.ppf(.05)#\"results above\" 5%\n",
    "required_gpa"
   ]
  },
  {
   "cell_type": "code",
   "execution_count": 15,
   "id": "5146c0ff",
   "metadata": {},
   "outputs": [
    {
     "data": {
      "text/plain": [
       "1.0494515075362604e-21"
      ]
     },
     "execution_count": 15,
     "metadata": {},
     "output_type": "execute_result"
    }
   ],
   "source": [
    "#What GPA constitutes the bottom 15% of the class?\n",
    "gpa = stats.norm(mn, sd)\n",
    "required_gpa = gpa.cdf(.15)#\"cdf\" \"results below\" 15%\n",
    "required_gpa"
   ]
  },
  {
   "cell_type": "code",
   "execution_count": 23,
   "id": "1c4a929a",
   "metadata": {},
   "outputs": [
    {
     "data": {
      "text/plain": [
       "0.2524925375469227"
      ]
     },
     "execution_count": 23,
     "metadata": {},
     "output_type": "execute_result"
    }
   ],
   "source": [
    "#An eccentric alumnus left scholarship money for students in the third decile from the bottom of their class. Determine the range of the third decile. Would a student with a 2.8 grade point average qualify for this scholarship?\n",
    "s=gpa.cdf(2.8)#????\n",
    "s"
   ]
  },
  {
   "cell_type": "code",
   "execution_count": 25,
   "id": "c5937c72",
   "metadata": {},
   "outputs": [
    {
     "data": {
      "text/plain": [
       "0.3315904626424956"
      ]
     },
     "execution_count": 25,
     "metadata": {},
     "output_type": "execute_result"
    }
   ],
   "source": [
    "#If I have a GPA of 3.5, what percentile am I in?\n",
    "p=gpa.pdf(3.5)#????\n",
    "p"
   ]
  },
  {
   "cell_type": "markdown",
   "id": "5ca0bac4",
   "metadata": {},
   "source": [
    "## 3. A marketing website has an average click-through rate of 2%. One day they observe 4326 visitors and 97 click-throughs. How likely is it that this many people or more click through?"
   ]
  },
  {
   "cell_type": "code",
   "execution_count": 31,
   "id": "c58e464c",
   "metadata": {},
   "outputs": [
    {
     "data": {
      "text/plain": [
       "0.9999999999999999"
      ]
     },
     "execution_count": 31,
     "metadata": {},
     "output_type": "execute_result"
    }
   ],
   "source": [
    "#binomial distribution\n",
    "#trials == 4326\n",
    "#success == 97\n",
    "#over 1 day\n",
    "\n",
    "stats.binom(4326, .02).sf(1)"
   ]
  },
  {
   "cell_type": "markdown",
   "id": "4dcd1214",
   "metadata": {},
   "source": [
    "## 4. You are working on some statistics homework consisting of 100 questions where all of the answers are a probability rounded to the hundreths place. Looking to save time, you put down random probabilities as the answer to each question.\n",
    "\n",
    "    What is the probability that at least one of your first 60 answers is correct?"
   ]
  },
  {
   "cell_type": "code",
   "execution_count": 32,
   "id": "2a6ae757",
   "metadata": {},
   "outputs": [
    {
     "data": {
      "text/plain": [
       "6.129908671335186e-95"
      ]
     },
     "execution_count": 32,
     "metadata": {},
     "output_type": "execute_result"
    }
   ],
   "source": [
    "stats.binom(100,.01).sf(60)"
   ]
  },
  {
   "cell_type": "markdown",
   "id": "f9915b1e",
   "metadata": {},
   "source": [
    "## 5. The codeup staff tends to get upset when the student break area is not cleaned up. Suppose that there's a 3% chance that any one student cleans the break area when they visit it, and, on any given day, about 90% of the 3 active cohorts of 22 students visit the break area. How likely is it that the break area gets cleaned up each day? How likely is it that it goes two days without getting cleaned up? All week?"
   ]
  },
  {
   "cell_type": "code",
   "execution_count": 38,
   "id": "9d242fc5",
   "metadata": {},
   "outputs": [
    {
     "data": {
      "text/plain": [
       "0.9999999999999999"
      ]
     },
     "execution_count": 38,
     "metadata": {},
     "output_type": "execute_result"
    }
   ],
   "source": [
    "#How likely is it that the break area gets cleaned up each day?\n",
    "stats.binom(22,.9).sf(1)"
   ]
  },
  {
   "cell_type": "code",
   "execution_count": 37,
   "id": "f7fdfad9",
   "metadata": {},
   "outputs": [
    {
     "data": {
      "text/plain": [
       "0.9999999999999999"
      ]
     },
     "execution_count": 37,
     "metadata": {},
     "output_type": "execute_result"
    }
   ],
   "source": [
    "#How likely is it that it goes two days without getting cleaned up?\n",
    "stats.binom(22,.9).sf(2)"
   ]
  },
  {
   "cell_type": "code",
   "execution_count": 39,
   "id": "d03a741d",
   "metadata": {},
   "outputs": [
    {
     "data": {
      "text/plain": [
       "0.9999999999998396"
      ]
     },
     "execution_count": 39,
     "metadata": {},
     "output_type": "execute_result"
    }
   ],
   "source": [
    "#all week\n",
    "stats.binom(22,.9).sf(5)"
   ]
  },
  {
   "cell_type": "code",
   "execution_count": null,
   "id": "b113422a",
   "metadata": {},
   "outputs": [],
   "source": []
  }
 ],
 "metadata": {
  "kernelspec": {
   "display_name": "Python 3",
   "language": "python",
   "name": "python3"
  },
  "language_info": {
   "codemirror_mode": {
    "name": "ipython",
    "version": 3
   },
   "file_extension": ".py",
   "mimetype": "text/x-python",
   "name": "python",
   "nbconvert_exporter": "python",
   "pygments_lexer": "ipython3",
   "version": "3.8.8"
  }
 },
 "nbformat": 4,
 "nbformat_minor": 5
}
