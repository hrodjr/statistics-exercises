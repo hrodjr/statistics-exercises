{
 "cells": [
  {
   "cell_type": "code",
   "execution_count": 25,
   "id": "207b40a1",
   "metadata": {},
   "outputs": [],
   "source": [
    "import numpy as np\n",
    "import pandas as pd"
   ]
  },
  {
   "cell_type": "code",
   "execution_count": 27,
   "id": "b47d152c",
   "metadata": {},
   "outputs": [
    {
     "data": {
      "text/plain": [
       "(array([3, 3, 5, 2, 6]), array([4, 3, 5, 2, 5]))"
      ]
     },
     "execution_count": 27,
     "metadata": {},
     "output_type": "execute_result"
    }
   ],
   "source": [
    "# 1. How likely is it that you roll doubles when rolling two dice?\n",
    "outcomes = [1, 2, 3, 4, 5, 6]\n",
    "n_sims = 1_000_000\n",
    "\n",
    "die1 = np.random.choice(outcomes, size=n_sims)#setup to match vice sum.\n",
    "die2 = np.random.choice(outcomes, size=n_sims)\n",
    "\n",
    "die1[0:5], die2[0:5]"
   ]
  },
  {
   "cell_type": "code",
   "execution_count": 28,
   "id": "b70bb86f",
   "metadata": {},
   "outputs": [
    {
     "data": {
      "text/plain": [
       "0.166801"
      ]
     },
     "execution_count": 28,
     "metadata": {},
     "output_type": "execute_result"
    }
   ],
   "source": [
    "# probability of rolling doubles\n",
    "(die1==die2).mean()# 1 die equals the other."
   ]
  },
  {
   "cell_type": "code",
   "execution_count": 42,
   "id": "fb3758db",
   "metadata": {},
   "outputs": [
    {
     "data": {
      "text/plain": [
       "array(['tails', 'heads', 'heads', 'tails', 'heads', 'heads', 'tails',\n",
       "       'tails'], dtype='<U5')"
      ]
     },
     "execution_count": 42,
     "metadata": {},
     "output_type": "execute_result"
    }
   ],
   "source": [
    "# If you flip 8 coins, what is the probability of getting exactly 3 heads? What is the probability of getting more than 3 heads?\n",
    "outcomes = [\"heads\", \"tails\"]\n",
    "\n",
    "flip = np.random.choice(outcomes, size = 8)\n",
    "flip"
   ]
  },
  {
   "cell_type": "code",
   "execution_count": 52,
   "id": "dcf06e9d",
   "metadata": {},
   "outputs": [
    {
     "data": {
      "text/plain": [
       "array([False,  True,  True, False,  True,  True, False, False])"
      ]
     },
     "execution_count": 52,
     "metadata": {},
     "output_type": "execute_result"
    }
   ],
   "source": [
    "#probability of getting exactly 3 heads?\n",
    "(flip == \"heads\")[0:8]"
   ]
  },
  {
   "cell_type": "code",
   "execution_count": 55,
   "id": "f8bb6f4c",
   "metadata": {},
   "outputs": [],
   "source": [
    "#probability of getting more than 3 heads?"
   ]
  },
  {
   "cell_type": "code",
   "execution_count": null,
   "id": "a5a8c8e8",
   "metadata": {},
   "outputs": [],
   "source": [
    "# There are approximitely 3 web development cohorts for every 1 data science cohort at Codeup. Assuming that Codeup randomly selects an alumni to put on a billboard, what are the odds that the two billboards I drive past both have data science students on them?\n"
   ]
  }
 ],
 "metadata": {
  "kernelspec": {
   "display_name": "Python 3",
   "language": "python",
   "name": "python3"
  },
  "language_info": {
   "codemirror_mode": {
    "name": "ipython",
    "version": 3
   },
   "file_extension": ".py",
   "mimetype": "text/x-python",
   "name": "python",
   "nbconvert_exporter": "python",
   "pygments_lexer": "ipython3",
   "version": "3.8.8"
  }
 },
 "nbformat": 4,
 "nbformat_minor": 5
}
