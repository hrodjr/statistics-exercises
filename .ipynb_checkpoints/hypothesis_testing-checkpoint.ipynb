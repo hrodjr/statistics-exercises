{
 "cells": [
  {
   "cell_type": "markdown",
   "id": "3772917f",
   "metadata": {},
   "source": [
    "1. Has the network latency gone up since we switched internet service providers?\n",
    "\n",
    "    - null = The network ltency has not changed since we switched providers.\n",
    "    - alternative = The network ltency has changed since we switched providers. \n",
    "\n",
    "    - true positive = greater latency switching providers -- H0 is false\n",
    "    - true negative = No latency switching providers -- H0 is true\n",
    "\n",
    "    - T1 = There was a change\n",
    "    - T2 = There was no change"
   ]
  },
  {
   "cell_type": "markdown",
   "id": "8f9292cb",
   "metadata": {},
   "source": [
    "2. Is the website redesign any good?\n",
    "\n",
    "    - null = website redesign is good. -- no difference\n",
    "    - alternative = websited redesign needs work. -- difference \n",
    "\n",
    "    - true positive = redesign needs work. -- H0 is false\n",
    "    - true negative = redesign is good. -- H0 is true\n",
    "\n",
    "    - T1 = redesign does not need any work. -- null is true but rejected\n",
    "    - T2 = redesign needs work. -- null is false but acepted"
   ]
  },
  {
   "cell_type": "markdown",
   "id": "401a6b83",
   "metadata": {},
   "source": [
    "3. Is our television ad driving more sales?\n",
    "\n",
    "    - null = Ad is driving sales. -- no difference\n",
    "    - alternative = Ad is not driving sales. -- difference \n",
    "\n",
    "    - true positive = Need better ads. -- H0 is false\n",
    "    - true negative = ads are working. -- H0 is true\n",
    "\n",
    "    - T1 = Ad is driving more sales. -- null is true but rejected\n",
    "    - T2 = Ads are not driving sales. -- null is false but acepted"
   ]
  },
  {
   "cell_type": "code",
   "execution_count": null,
   "id": "508da9f4",
   "metadata": {},
   "outputs": [],
   "source": []
  }
 ],
 "metadata": {
  "kernelspec": {
   "display_name": "Python 3",
   "language": "python",
   "name": "python3"
  },
  "language_info": {
   "codemirror_mode": {
    "name": "ipython",
    "version": 3
   },
   "file_extension": ".py",
   "mimetype": "text/x-python",
   "name": "python",
   "nbconvert_exporter": "python",
   "pygments_lexer": "ipython3",
   "version": "3.8.8"
  }
 },
 "nbformat": 4,
 "nbformat_minor": 5
}
