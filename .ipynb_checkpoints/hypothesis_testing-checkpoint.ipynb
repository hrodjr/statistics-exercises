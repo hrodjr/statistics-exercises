{
 "cells": [
  {
   "cell_type": "markdown",
   "id": "fddd2387",
   "metadata": {},
   "source": [
    "# Hypothesis Overview"
   ]
  },
  {
   "cell_type": "markdown",
   "id": "3772917f",
   "metadata": {},
   "source": [
    "1. Has the network latency gone up since we switched internet service providers?\n",
    "\n",
    "    - null = The network ltency has not changed since we switched providers.\n",
    "    - alternative = The network ltency has changed since we switched providers. \n",
    "\n",
    "    - true positive = greater latency switching providers -- H0 is false\n",
    "    - true negative = No latency switching providers -- H0 is true\n",
    "\n",
    "    - T1 = There was a change\n",
    "    - T2 = There was no change"
   ]
  },
  {
   "cell_type": "markdown",
   "id": "8f9292cb",
   "metadata": {},
   "source": [
    "2. Is the website redesign any good?\n",
    "\n",
    "    - null = website redesign is good. -- no difference\n",
    "    - alternative = websited redesign needs work. -- difference \n",
    "\n",
    "    - true positive = redesign needs work. -- H0 is false\n",
    "    - true negative = redesign is good. -- H0 is true\n",
    "\n",
    "    - T1 = redesign does not need any work. -- null is true but rejected\n",
    "    - T2 = redesign needs work. -- null is false but acepted"
   ]
  },
  {
   "cell_type": "markdown",
   "id": "401a6b83",
   "metadata": {},
   "source": [
    "3. Is our television ad driving more sales?\n",
    "\n",
    "    - null = Ad is driving sales. -- no difference\n",
    "    - alternative = Ad is not driving sales. -- difference \n",
    "\n",
    "    - true positive = Need better ads. -- H0 is false\n",
    "    - true negative = ads are working. -- H0 is true\n",
    "\n",
    "    - T1 = Ad is driving more sales. -- null is true but rejected\n",
    "    - T2 = Ads are not driving sales. -- null is false but acepted"
   ]
  },
  {
   "cell_type": "markdown",
   "id": "5a8ddd09",
   "metadata": {},
   "source": [
    "# Hypothesis Testing"
   ]
  },
  {
   "cell_type": "code",
   "execution_count": 13,
   "id": "f884209c",
   "metadata": {},
   "outputs": [],
   "source": [
    "from math import sqrt\n",
    "from scipy import stats\n",
    "from statsmodels.stats.weightstats import ttest_ind\n",
    "\n",
    "%matplotlib inline\n",
    "import matplotlib.pyplot as plt\n",
    "import numpy as np\n",
    "import pandas as pd\n",
    "\n",
    "import seaborn as sns"
   ]
  },
  {
   "cell_type": "markdown",
   "id": "3ec084b4",
   "metadata": {},
   "source": [
    "1. Ace Realty wants to determine whether the average time it takes to sell homes is different for its two offices. A sample of 40 sales from office #1 revealed a mean of 90 days and a standard deviation of 15 days. A sample of 50 sales from office #2 revealed a mean of 100 days and a standard deviation of 20 days. Use a .05 level of significance."
   ]
  },
  {
   "cell_type": "markdown",
   "id": "1fd43994",
   "metadata": {},
   "source": [
    "### Ace Realty wants to determine whether the average time it takes to sell homes is different for its two offices.\n",
    "\n",
    ".05 level of significance\n",
    "\n",
    "Office\n",
    "\n",
    "    - sample of 40 sales\n",
    "    - mean of 90 days\n",
    "    - standard deviation of 15 days\n",
    "\n",
    "Office 2\n",
    "\n",
    "     - sample of 50 sales\n",
    "     - mean of 100 days\n",
    "     - standard deviation of 20"
   ]
  },
  {
   "cell_type": "code",
   "execution_count": 20,
   "id": "de692e0c",
   "metadata": {},
   "outputs": [
    {
     "data": {
      "text/plain": [
       "Ttest_indResult(statistic=-11.178355270480116, pvalue=1.4236789708004715e-18)"
      ]
     },
     "execution_count": 20,
     "metadata": {},
     "output_type": "execute_result"
    }
   ],
   "source": [
    "#STEP 1: Define H0 and Ha\n",
    "#H0: the average time it takes to sell homes is different for both offices\n",
    "#Ha: the average time it takes to sell homes is NO different for both offices\n",
    "\n",
    "#STEP 2: alpha is .05 when comparing two independent groups\n",
    "# a = .05\n",
    "\n",
    "#STEP 3:\n",
    "#Check the data for errors -- None?\n",
    "\n",
    "#STEP 4: Check the assumptions for the test\n",
    "\n",
    "#STEP 5: Test\n",
    "\n",
    "from scipy.stats import ttest_ind_from_stats\n",
    "ttest_ind_from_stats(mean1=90, std1=np.sqrt(15), nobs1=40, mean2=100, std2=np.sqrt(20), nobs2=50)"
   ]
  },
  {
   "cell_type": "code",
   "execution_count": null,
   "id": "7e2d04aa",
   "metadata": {},
   "outputs": [],
   "source": []
  },
  {
   "cell_type": "markdown",
   "id": "947829ae",
   "metadata": {},
   "source": [
    "2. Load the mpg dataset and use it to answer the following questions:\n",
    "\n",
    "    - Is there a difference in fuel-efficiency in cars from 2008 vs 1999?\n",
    "    - Are compact cars more fuel-efficient than the average car?\n",
    "    - Do manual cars get better gas mileage than automatic cars?"
   ]
  },
  {
   "cell_type": "code",
   "execution_count": null,
   "id": "c5f518ce",
   "metadata": {},
   "outputs": [],
   "source": []
  }
 ],
 "metadata": {
  "kernelspec": {
   "display_name": "Python 3",
   "language": "python",
   "name": "python3"
  },
  "language_info": {
   "codemirror_mode": {
    "name": "ipython",
    "version": 3
   },
   "file_extension": ".py",
   "mimetype": "text/x-python",
   "name": "python",
   "nbconvert_exporter": "python",
   "pygments_lexer": "ipython3",
   "version": "3.8.8"
  }
 },
 "nbformat": 4,
 "nbformat_minor": 5
}
