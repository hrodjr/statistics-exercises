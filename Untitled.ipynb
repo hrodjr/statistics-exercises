{
 "cells": [
  {
   "cell_type": "code",
   "execution_count": 1,
   "id": "fa967b34",
   "metadata": {},
   "outputs": [],
   "source": [
    "from math import sqrt\n",
    "from scipy import stats\n",
    "from statsmodels.stats.weightstats import ttest_ind\n",
    "\n",
    "%matplotlib inline\n",
    "import matplotlib.pyplot as plt\n",
    "import numpy as np\n",
    "import pandas as pd\n",
    "\n",
    "import seaborn as sns"
   ]
  },
  {
   "cell_type": "code",
   "execution_count": 46,
   "id": "47991079",
   "metadata": {},
   "outputs": [
    {
     "data": {
      "text/plain": [
       "0.8413447460685429"
      ]
     },
     "execution_count": 46,
     "metadata": {},
     "output_type": "execute_result"
    }
   ],
   "source": [
    "stats.norm(40, 15).cdf(55)"
   ]
  },
  {
   "cell_type": "code",
   "execution_count": 8,
   "id": "54c53279",
   "metadata": {},
   "outputs": [
    {
     "data": {
      "text/plain": [
       "0.12281969339874403"
      ]
     },
     "execution_count": 8,
     "metadata": {},
     "output_type": "execute_result"
    }
   ],
   "source": [
    "stats.binom(618, .10).sf(70)"
   ]
  },
  {
   "cell_type": "code",
   "execution_count": null,
   "id": "09bee609",
   "metadata": {},
   "outputs": [],
   "source": [
    "test"
   ]
  }
 ],
 "metadata": {
  "kernelspec": {
   "display_name": "Python 3",
   "language": "python",
   "name": "python3"
  },
  "language_info": {
   "codemirror_mode": {
    "name": "ipython",
    "version": 3
   },
   "file_extension": ".py",
   "mimetype": "text/x-python",
   "name": "python",
   "nbconvert_exporter": "python",
   "pygments_lexer": "ipython3",
   "version": "3.8.8"
  },
  "toc": {
   "base_numbering": 1,
   "nav_menu": {},
   "number_sections": false,
   "sideBar": false,
   "skip_h1_title": false,
   "title_cell": "Table of Contents",
   "title_sidebar": "Contents",
   "toc_cell": false,
   "toc_position": {},
   "toc_section_display": false,
   "toc_window_display": false
  }
 },
 "nbformat": 4,
 "nbformat_minor": 5
}
